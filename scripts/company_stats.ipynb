{
 "cells": [
  {
   "cell_type": "markdown",
   "metadata": {},
   "source": [
    "# Compute GitHub Stats"
   ]
  },
  {
   "cell_type": "code",
   "execution_count": 1,
   "metadata": {},
   "outputs": [],
   "source": [
    "# NOTE: The RuntimeWarnings (if any) are harmless. See ContinuumIO/anaconda-issues#6678.\n",
    "from pandas.io import gbq\n",
    "import pandas as pd"
   ]
  },
  {
   "cell_type": "code",
   "execution_count": 2,
   "metadata": {},
   "outputs": [],
   "source": [
    "import getpass\n",
    "import subprocess\n",
    "# Configuration Variables. Modify as desired.\n",
    "\n",
    "PROJECT = subprocess.check_output([\"gcloud\", \"config\", \"get-value\", \"project\"]).strip().decode()"
   ]
  },
  {
   "cell_type": "markdown",
   "metadata": {},
   "source": [
    "## Setup Authorization\n",
    "\n",
    "If you are using a service account run\n",
    "%%bash\n",
    "\n",
    "# Activate Service Account provided by Kubeflow.\n",
    "gcloud auth activate-service-account --key-file=${GOOGLE_APPLICATION_CREDENTIALS}\n",
    "\n",
    "If you are running using user credentials\n",
    "\n",
    "gcloud auth application-default login"
   ]
  },
  {
   "cell_type": "code",
   "execution_count": null,
   "metadata": {},
   "outputs": [],
   "source": []
  },
  {
   "cell_type": "code",
   "execution_count": 25,
   "metadata": {},
   "outputs": [
    {
     "ename": "NameError",
     "evalue": "name 'datetime' is not defined",
     "output_type": "error",
     "traceback": [
      "\u001b[0;31m---------------------------------------------------------------------------\u001b[0m",
      "\u001b[0;31mNameError\u001b[0m                                 Traceback (most recent call last)",
      "\u001b[0;32m<ipython-input-25-78cdb9d70ba5>\u001b[0m in \u001b[0;36m<module>\u001b[0;34m\u001b[0m\n\u001b[0;32m----> 1\u001b[0;31m \u001b[0mdatetime\u001b[0m\u001b[0;34m.\u001b[0m\u001b[0mdatetime\u001b[0m\u001b[0;34m.\u001b[0m\u001b[0myear\u001b[0m\u001b[0;34m(\u001b[0m\u001b[0;34m)\u001b[0m\u001b[0;34m\u001b[0m\u001b[0;34m\u001b[0m\u001b[0m\n\u001b[0m",
      "\u001b[0;31mNameError\u001b[0m: name 'datetime' is not defined"
     ]
    }
   ],
   "source": [
    "datetime.datetime.year()"
   ]
  },
  {
   "cell_type": "code",
   "execution_count": 3,
   "metadata": {},
   "outputs": [
    {
     "data": {
      "text/plain": [
       "['\"201801\"',\n",
       " '\"201802\"',\n",
       " '\"201803\"',\n",
       " '\"201804\"',\n",
       " '\"201805\"',\n",
       " '\"201806\"',\n",
       " '\"201807\"',\n",
       " '\"201808\"',\n",
       " '\"201809\"',\n",
       " '\"201810\"',\n",
       " '\"201811\"',\n",
       " '\"201812\"',\n",
       " '\"201901\"',\n",
       " '\"201902\"',\n",
       " '\"201903\"',\n",
       " '\"201904\"']"
      ]
     },
     "execution_count": 3,
     "metadata": {},
     "output_type": "execute_result"
    }
   ],
   "source": [
    "months = []\n",
    "for year in [\"2018\"]:\n",
    "    for month in range(1, 13):\n",
    "        months.append(\"\\\"{0}{1:02}\\\"\".format(year, month))\n",
    "\n",
    "for year in [\"2019\"]:\n",
    "    for month in range(1, 5):\n",
    "        months.append(\"\\\"{0}{1:02}\\\"\".format(year, month))\n",
    "months"
   ]
  },
  {
   "cell_type": "markdown",
   "metadata": {},
   "source": [
    "# Read in user affiliations\n",
    "\n",
    "* github_users.json is produced using CNCF scripts\n",
    "* There can be multiple entries for a user showing their company & affiliation during different time periods"
   ]
  },
  {
   "cell_type": "code",
   "execution_count": 4,
   "metadata": {},
   "outputs": [],
   "source": [
    "import json\n",
    "import os\n",
    "import requests\n",
    "if not os.path.exists(\".cache\"):\n",
    "    os.makedirs(\".cache\")\n",
    "    \n",
    "\n",
    "users_file = os.path.join(\".cache\", \"github_users.json\")\n",
    "\n",
    "if not os.path.exists(users_file):\n",
    "    url = \"https://github.com/kubeflow/community/blob/master/devstats/data/github_users.json?raw=true\"\n",
    "\n",
    "    r = requests.get(url, allow_redirects=True)\n",
    "    \n",
    "    with open(users_file, \"wb\") as hf:\n",
    "        hf.write(r.content)\n",
    "\n",
    "with open(users_file) as hf:    \n",
    "    data = json.load(hf)\n",
    "users=pd.DataFrame(data)\n",
    "users = users[[\"login\", \"company\"]]"
   ]
  },
  {
   "cell_type": "code",
   "execution_count": 5,
   "metadata": {},
   "outputs": [],
   "source": [
    "# Dedupe companies\n",
    "c = [\"cisco\", \"datawire\", \"google\", \"ibm\", \"intel\", \"teradata\", \"red hat\"]\n",
    "known_companies = dict(zip(c,c))\n",
    "known_companies[\"redhat\"] = \"red hat\"\n",
    "def normalize_company(name):\n",
    "    if name is None:\n",
    "        return \"None\"\n",
    "    name = name.strip().lower().strip(\"!\").strip(\"@\")\n",
    "        \n",
    "     \n",
    "    for k, v in known_companies.items():\n",
    "        if k in name:\n",
    "            return v\n",
    "    return name\n",
    "\n",
    "users[\"company\"] = users[\"company\"].apply(normalize_company)"
   ]
  },
  {
   "cell_type": "markdown",
   "metadata": {},
   "source": [
    "* Users can have multiple entries\n",
    "* We pick the first non None entry\n",
    "* TODO(jlewi) We should find a better way to combine multiple entries"
   ]
  },
  {
   "cell_type": "code",
   "execution_count": 6,
   "metadata": {},
   "outputs": [
    {
     "data": {
      "text/plain": [
       "'google'"
      ]
     },
     "execution_count": 6,
     "metadata": {},
     "output_type": "execute_result"
    }
   ],
   "source": [
    "def combine_company(names):\n",
    "    for i in names:\n",
    "        if i != \"None\":\n",
    "            return i\n",
    "    return None\n",
    "\n",
    "user_map= users.groupby(\"login\")[\"company\"].apply(combine_company)\n",
    "\n",
    "# You can now look up users as user_map[actor]\n",
    "user_map[\"jlewi\"]"
   ]
  },
  {
   "cell_type": "markdown",
   "metadata": {},
   "source": [
    "## Unique PR Creators"
   ]
  },
  {
   "cell_type": "code",
   "execution_count": 7,
   "metadata": {},
   "outputs": [
    {
     "name": "stderr",
     "output_type": "stream",
     "text": [
      "/home/jovyan/.local/lib/python3.6/site-packages/pandas_gbq/gbq.py:555: UserWarning: A progress bar was requested, but there was an error loading the tqdm library. Please install tqdm to use the progress bar functionality.\n",
      "  progress_bar_type=progress_bar_type,\n"
     ]
    }
   ],
   "source": [
    "query = \"\"\"\n",
    "SELECT\n",
    "    DATE(created_at) AS pr_date,\n",
    "    actor.id,\n",
    "    actor.login\n",
    "  FROM `githubarchive.month.*`\n",
    "  WHERE\n",
    "    _TABLE_SUFFIX IN ({0})\n",
    "    AND type = 'PullRequestEvent'\n",
    "    AND org.login = 'kubeflow'\n",
    "    AND JSON_EXTRACT(payload, '$.action') IN ('\"opened\"')\n",
    "\"\"\".format(\",\".join(months))\n",
    "\n",
    "prs=gbq.read_gbq(str(query), dialect='standard', project_id=PROJECT)"
   ]
  },
  {
   "cell_type": "code",
   "execution_count": 8,
   "metadata": {},
   "outputs": [],
   "source": [
    "p=pd.Series(data=prs[\"id\"].values,index=prs[\"pr_date\"])\n",
    "p=p.sort_index()"
   ]
  },
  {
   "cell_type": "code",
   "execution_count": 9,
   "metadata": {},
   "outputs": [
    {
     "data": {
      "text/html": [
       "<div>\n",
       "<style scoped>\n",
       "    .dataframe tbody tr th:only-of-type {\n",
       "        vertical-align: middle;\n",
       "    }\n",
       "\n",
       "    .dataframe tbody tr th {\n",
       "        vertical-align: top;\n",
       "    }\n",
       "\n",
       "    .dataframe thead th {\n",
       "        text-align: right;\n",
       "    }\n",
       "</style>\n",
       "<table border=\"1\" class=\"dataframe\">\n",
       "  <thead>\n",
       "    <tr style=\"text-align: right;\">\n",
       "      <th></th>\n",
       "      <th>pr_date</th>\n",
       "      <th>id</th>\n",
       "      <th>login</th>\n",
       "    </tr>\n",
       "  </thead>\n",
       "  <tbody>\n",
       "    <tr>\n",
       "      <th>0</th>\n",
       "      <td>2018-04-01</td>\n",
       "      <td>777219</td>\n",
       "      <td>jlewi</td>\n",
       "    </tr>\n",
       "    <tr>\n",
       "      <th>1</th>\n",
       "      <td>2018-04-02</td>\n",
       "      <td>697528</td>\n",
       "      <td>inc0</td>\n",
       "    </tr>\n",
       "    <tr>\n",
       "      <th>2</th>\n",
       "      <td>2018-04-02</td>\n",
       "      <td>777219</td>\n",
       "      <td>jlewi</td>\n",
       "    </tr>\n",
       "    <tr>\n",
       "      <th>3</th>\n",
       "      <td>2018-04-03</td>\n",
       "      <td>4869572</td>\n",
       "      <td>jose5918</td>\n",
       "    </tr>\n",
       "    <tr>\n",
       "      <th>4</th>\n",
       "      <td>2018-04-03</td>\n",
       "      <td>7599217</td>\n",
       "      <td>mhbuehler</td>\n",
       "    </tr>\n",
       "    <tr>\n",
       "      <th>...</th>\n",
       "      <td>...</td>\n",
       "      <td>...</td>\n",
       "      <td>...</td>\n",
       "    </tr>\n",
       "    <tr>\n",
       "      <th>4341</th>\n",
       "      <td>2019-04-29</td>\n",
       "      <td>1829149</td>\n",
       "      <td>Ark-kun</td>\n",
       "    </tr>\n",
       "    <tr>\n",
       "      <th>4342</th>\n",
       "      <td>2019-04-29</td>\n",
       "      <td>1829149</td>\n",
       "      <td>Ark-kun</td>\n",
       "    </tr>\n",
       "    <tr>\n",
       "      <th>4343</th>\n",
       "      <td>2019-04-29</td>\n",
       "      <td>34456002</td>\n",
       "      <td>rileyjbauer</td>\n",
       "    </tr>\n",
       "    <tr>\n",
       "      <th>4344</th>\n",
       "      <td>2019-03-15</td>\n",
       "      <td>777219</td>\n",
       "      <td>jlewi</td>\n",
       "    </tr>\n",
       "    <tr>\n",
       "      <th>4345</th>\n",
       "      <td>2019-03-15</td>\n",
       "      <td>13673199</td>\n",
       "      <td>jinchihe</td>\n",
       "    </tr>\n",
       "  </tbody>\n",
       "</table>\n",
       "<p>4346 rows × 3 columns</p>\n",
       "</div>"
      ],
      "text/plain": [
       "        pr_date        id        login\n",
       "0    2018-04-01    777219        jlewi\n",
       "1    2018-04-02    697528         inc0\n",
       "2    2018-04-02    777219        jlewi\n",
       "3    2018-04-03   4869572     jose5918\n",
       "4    2018-04-03   7599217    mhbuehler\n",
       "...         ...       ...          ...\n",
       "4341 2019-04-29   1829149      Ark-kun\n",
       "4342 2019-04-29   1829149      Ark-kun\n",
       "4343 2019-04-29  34456002  rileyjbauer\n",
       "4344 2019-03-15    777219        jlewi\n",
       "4345 2019-03-15  13673199     jinchihe\n",
       "\n",
       "[4346 rows x 3 columns]"
      ]
     },
     "execution_count": 9,
     "metadata": {},
     "output_type": "execute_result"
    }
   ],
   "source": [
    "prs"
   ]
  },
  {
   "cell_type": "code",
   "execution_count": 10,
   "metadata": {},
   "outputs": [],
   "source": [
    "prs[\"company\"] = user_map[prs[\"login\"]].values"
   ]
  },
  {
   "cell_type": "code",
   "execution_count": 11,
   "metadata": {},
   "outputs": [
    {
     "name": "stderr",
     "output_type": "stream",
     "text": [
      "/usr/local/lib/python3.6/dist-packages/ipykernel_launcher.py:2: SettingWithCopyWarning: \n",
      "A value is trying to be set on a copy of a slice from a DataFrame.\n",
      "Try using .loc[row_indexer,col_indexer] = value instead\n",
      "\n",
      "See the caveats in the documentation: https://pandas.pydata.org/pandas-docs/stable/user_guide/indexing.html#returning-a-view-versus-a-copy\n",
      "  \n"
     ]
    }
   ],
   "source": [
    "d=prs[[\"pr_date\", \"company\"]]\n",
    "d[\"count\"]=1"
   ]
  },
  {
   "cell_type": "code",
   "execution_count": 12,
   "metadata": {},
   "outputs": [],
   "source": [
    "pr_counts = d.pivot_table(\"count\", columns=\"company\", index=\"pr_date\", aggfunc=\"sum\", fill_value=0)"
   ]
  },
  {
   "cell_type": "code",
   "execution_count": 13,
   "metadata": {},
   "outputs": [],
   "source": [
    "# Some solutions here: https://stackoverflow.com/questions/46470743/how-to-efficiently-compute-a-rolling-unique-count-in-a-pandas-time-series\n",
    "# Need to figure out how to do a time based window\n",
    "\n",
    "counts = pr_counts.rolling('28d').sum()"
   ]
  },
  {
   "cell_type": "code",
   "execution_count": 17,
   "metadata": {},
   "outputs": [
    {
     "data": {
      "text/plain": [
       "Index(['agile stacks', 'agilestacks', 'ai lab, cs, pu', 'airbnb', 'alauda.io',\n",
       "       'alibaba', 'alibaba cloud', 'alibaba.com', 'alipay', 'ant financial',\n",
       "       'arrikto', 'aws', 'blackduck software', 'bolcom', 'caicloud',\n",
       "       'canonical', 'cern', 'cisco', 'connected-io', 'cornell',\n",
       "       'crowdflower.com', 'daocloud', 'datatonic', 'datawire', 'doc-ai',\n",
       "       'docker, inc', 'elementai', 'generalassembly @maishelf', 'github',\n",
       "       'gojekindonesia', 'google', 'grab', 'huawei', 'huawei-paas', 'ibm',\n",
       "       'intel', 'inwinstack', 'jd.com', 'kesci', 'kredoai',\n",
       "       'kubernetes @meituan-dianping', 'kumulus technologies',\n",
       "       'linkedin, findsimilarmovies.com', 'lsa lab, cs, nthu', 'maxkelsen',\n",
       "       'mercari inc.', 'microsoft', 'momenta', 'muxinc', 'nanjing university',\n",
       "       'nearmap', 'ntt laboratories', 'nvidia', 'ocelot uproar',\n",
       "       'one convergence', 'openshift', 'pachyderm', 'pinterest',\n",
       "       'preferred networks, inc.', 'publicis worldwide', 'red hat',\n",
       "       'sada systems', 'samsung electronics', 'seldon', 'shopify', 'sigopt',\n",
       "       'sina', 'starcloud-ai', 'suse', 'teradata', 'tsinghua', 'tusimple',\n",
       "       'uber', 'umbocv @coldegarage', 'unisound @unisound-ail',\n",
       "       'university of bedfordshire', 'vmware', 'walmartlabs', 'weaveworks',\n",
       "       'willing consulting', 'z lab corporation', 'zte'],\n",
       "      dtype='object', name='company')"
      ]
     },
     "execution_count": 17,
     "metadata": {},
     "output_type": "execute_result"
    }
   ],
   "source": [
    "counts.columns"
   ]
  },
  {
   "cell_type": "code",
   "execution_count": 23,
   "metadata": {},
   "outputs": [
    {
     "data": {
      "text/html": [
       "\n",
       "<div id=\"altair-viz-10e1d95679c8496eb7052ee1106f9f00\"></div>\n",
       "<script type=\"text/javascript\">\n",
       "  (function(spec, embedOpt){\n",
       "    const outputDiv = document.getElementById(\"altair-viz-10e1d95679c8496eb7052ee1106f9f00\");\n",
       "    const paths = {\n",
       "      \"vega\": \"https://cdn.jsdelivr.net/npm//vega@5?noext\",\n",
       "      \"vega-lib\": \"https://cdn.jsdelivr.net/npm//vega-lib?noext\",\n",
       "      \"vega-lite\": \"https://cdn.jsdelivr.net/npm//vega-lite@4.0.2?noext\",\n",
       "      \"vega-embed\": \"https://cdn.jsdelivr.net/npm//vega-embed@6?noext\",\n",
       "    };\n",
       "\n",
       "    function loadScript(lib) {\n",
       "      return new Promise(function(resolve, reject) {\n",
       "        var s = document.createElement('script');\n",
       "        s.src = paths[lib];\n",
       "        s.async = true;\n",
       "        s.onload = () => resolve(paths[lib]);\n",
       "        s.onerror = () => reject(`Error loading script: ${paths[lib]}`);\n",
       "        document.getElementsByTagName(\"head\")[0].appendChild(s);\n",
       "      });\n",
       "    }\n",
       "\n",
       "    function showError(err) {\n",
       "      outputDiv.innerHTML = `<div class=\"error\" style=\"color:red;\">${err}</div>`;\n",
       "      throw err;\n",
       "    }\n",
       "\n",
       "    function displayChart(vegaEmbed) {\n",
       "      vegaEmbed(outputDiv, spec, embedOpt)\n",
       "        .catch(err => showError(`Javascript Error: ${err.message}<br>This usually means there's a typo in your chart specification. See the javascript console for the full traceback.`));\n",
       "    }\n",
       "\n",
       "    if(typeof define === \"function\" && define.amd) {\n",
       "      requirejs.config({paths});\n",
       "      require([\"vega-embed\"], displayChart, err => showError(`Error loading script: ${err.message}`));\n",
       "    } else if (typeof vegaEmbed === \"function\") {\n",
       "      displayChart(vegaEmbed);\n",
       "    } else {\n",
       "      loadScript(\"vega\")\n",
       "        .then(() => loadScript(\"vega-lite\"))\n",
       "        .then(() => loadScript(\"vega-embed\"))\n",
       "        .catch(showError)\n",
       "        .then(() => displayChart(vegaEmbed));\n",
       "    }\n",
       "  })({\"config\": {\"view\": {\"continuousWidth\": 400, \"continuousHeight\": 300}}, \"layer\": [{\"mark\": \"line\", \"encoding\": {\"x\": {\"type\": \"temporal\", \"field\": \"day\", \"title\": \"Day\"}, \"y\": {\"type\": \"quantitative\", \"field\": \"google\", \"title\": \"# PRs\"}}, \"selection\": {\"selector002\": {\"type\": \"interval\", \"bind\": \"scales\", \"encodings\": [\"x\", \"y\"]}}, \"title\": \"PRs\"}, {\"mark\": \"point\", \"encoding\": {\"x\": {\"type\": \"temporal\", \"field\": \"day\", \"title\": \"Day\"}, \"y\": {\"type\": \"quantitative\", \"field\": \"google\", \"title\": \"# PRs\"}}, \"title\": \"PRs\"}], \"data\": {\"name\": \"data-c38aa142cd68693386161139b16c24f1\"}, \"$schema\": \"https://vega.github.io/schema/vega-lite/v4.0.2.json\", \"datasets\": {\"data-c38aa142cd68693386161139b16c24f1\": [{\"day\": \"2018-01-29T00:00:00\", \"google\": 1.0}, {\"day\": \"2018-01-30T00:00:00\", \"google\": 3.0}, {\"day\": \"2018-01-31T00:00:00\", \"google\": 4.0}, {\"day\": \"2018-02-01T00:00:00\", \"google\": 8.0}, {\"day\": \"2018-02-02T00:00:00\", \"google\": 12.0}, {\"day\": \"2018-02-03T00:00:00\", \"google\": 13.0}, {\"day\": \"2018-02-06T00:00:00\", \"google\": 15.0}, {\"day\": \"2018-02-07T00:00:00\", \"google\": 17.0}, {\"day\": \"2018-02-08T00:00:00\", \"google\": 19.0}, {\"day\": \"2018-02-09T00:00:00\", \"google\": 21.0}, {\"day\": \"2018-02-10T00:00:00\", \"google\": 23.0}, {\"day\": \"2018-02-11T00:00:00\", \"google\": 25.0}, {\"day\": \"2018-02-12T00:00:00\", \"google\": 26.0}, {\"day\": \"2018-02-13T00:00:00\", \"google\": 26.0}, {\"day\": \"2018-02-14T00:00:00\", \"google\": 28.0}, {\"day\": \"2018-02-15T00:00:00\", \"google\": 29.0}, {\"day\": \"2018-02-16T00:00:00\", \"google\": 29.0}, {\"day\": \"2018-02-19T00:00:00\", \"google\": 30.0}, {\"day\": \"2018-02-20T00:00:00\", \"google\": 31.0}, {\"day\": \"2018-02-21T00:00:00\", \"google\": 36.0}, {\"day\": \"2018-02-22T00:00:00\", \"google\": 38.0}, {\"day\": \"2018-02-23T00:00:00\", \"google\": 42.0}, {\"day\": \"2018-02-24T00:00:00\", \"google\": 43.0}, {\"day\": \"2018-02-25T00:00:00\", \"google\": 43.0}, {\"day\": \"2018-02-26T00:00:00\", \"google\": 47.0}, {\"day\": \"2018-02-27T00:00:00\", \"google\": 49.0}, {\"day\": \"2018-02-28T00:00:00\", \"google\": 49.0}, {\"day\": \"2018-03-01T00:00:00\", \"google\": 51.0}, {\"day\": \"2018-03-02T00:00:00\", \"google\": 53.0}, {\"day\": \"2018-03-03T00:00:00\", \"google\": 53.0}, {\"day\": \"2018-03-04T00:00:00\", \"google\": 54.0}, {\"day\": \"2018-03-05T00:00:00\", \"google\": 55.0}, {\"day\": \"2018-03-06T00:00:00\", \"google\": 56.0}, {\"day\": \"2018-03-07T00:00:00\", \"google\": 58.0}, {\"day\": \"2018-03-08T00:00:00\", \"google\": 58.0}, {\"day\": \"2018-03-09T00:00:00\", \"google\": 59.0}, {\"day\": \"2018-03-10T00:00:00\", \"google\": 57.0}, {\"day\": \"2018-03-11T00:00:00\", \"google\": 55.0}, {\"day\": \"2018-03-12T00:00:00\", \"google\": 60.0}, {\"day\": \"2018-03-13T00:00:00\", \"google\": 62.0}, {\"day\": \"2018-03-14T00:00:00\", \"google\": 60.0}, {\"day\": \"2018-03-15T00:00:00\", \"google\": 66.0}, {\"day\": \"2018-03-16T00:00:00\", \"google\": 69.0}, {\"day\": \"2018-03-17T00:00:00\", \"google\": 69.0}, {\"day\": \"2018-03-18T00:00:00\", \"google\": 71.0}, {\"day\": \"2018-03-19T00:00:00\", \"google\": 73.0}, {\"day\": \"2018-03-20T00:00:00\", \"google\": 75.0}, {\"day\": \"2018-03-21T00:00:00\", \"google\": 76.0}, {\"day\": \"2018-03-22T00:00:00\", \"google\": 76.0}, {\"day\": \"2018-03-23T00:00:00\", \"google\": 76.0}, {\"day\": \"2018-03-26T00:00:00\", \"google\": 72.0}, {\"day\": \"2018-03-27T00:00:00\", \"google\": 72.0}, {\"day\": \"2018-03-28T00:00:00\", \"google\": 75.0}, {\"day\": \"2018-03-29T00:00:00\", \"google\": 72.0}, {\"day\": \"2018-03-30T00:00:00\", \"google\": 72.0}, {\"day\": \"2018-03-31T00:00:00\", \"google\": 72.0}, {\"day\": \"2018-04-01T00:00:00\", \"google\": 72.0}, {\"day\": \"2018-04-02T00:00:00\", \"google\": 73.0}, {\"day\": \"2018-04-03T00:00:00\", \"google\": 70.0}, {\"day\": \"2018-04-05T00:00:00\", \"google\": 65.0}, {\"day\": \"2018-04-06T00:00:00\", \"google\": 68.0}, {\"day\": \"2018-04-07T00:00:00\", \"google\": 68.0}, {\"day\": \"2018-04-08T00:00:00\", \"google\": 69.0}, {\"day\": \"2018-04-09T00:00:00\", \"google\": 64.0}, {\"day\": \"2018-04-10T00:00:00\", \"google\": 63.0}, {\"day\": \"2018-04-11T00:00:00\", \"google\": 66.0}, {\"day\": \"2018-04-12T00:00:00\", \"google\": 60.0}, {\"day\": \"2018-04-13T00:00:00\", \"google\": 58.0}, {\"day\": \"2018-04-14T00:00:00\", \"google\": 58.0}, {\"day\": \"2018-04-15T00:00:00\", \"google\": 57.0}, {\"day\": \"2018-04-16T00:00:00\", \"google\": 54.0}, {\"day\": \"2018-04-17T00:00:00\", \"google\": 54.0}, {\"day\": \"2018-04-18T00:00:00\", \"google\": 52.0}, {\"day\": \"2018-04-19T00:00:00\", \"google\": 51.0}, {\"day\": \"2018-04-20T00:00:00\", \"google\": 49.0}, {\"day\": \"2018-04-21T00:00:00\", \"google\": 49.0}, {\"day\": \"2018-04-22T00:00:00\", \"google\": 49.0}, {\"day\": \"2018-04-23T00:00:00\", \"google\": 47.0}, {\"day\": \"2018-04-24T00:00:00\", \"google\": 44.0}, {\"day\": \"2018-04-25T00:00:00\", \"google\": 43.0}, {\"day\": \"2018-04-26T00:00:00\", \"google\": 40.0}, {\"day\": \"2018-04-27T00:00:00\", \"google\": 36.0}, {\"day\": \"2018-04-28T00:00:00\", \"google\": 37.0}, {\"day\": \"2018-04-30T00:00:00\", \"google\": 36.0}, {\"day\": \"2018-05-01T00:00:00\", \"google\": 36.0}, {\"day\": \"2018-05-02T00:00:00\", \"google\": 36.0}, {\"day\": \"2018-05-03T00:00:00\", \"google\": 35.0}, {\"day\": \"2018-05-04T00:00:00\", \"google\": 29.0}, {\"day\": \"2018-05-07T00:00:00\", \"google\": 28.0}, {\"day\": \"2018-05-08T00:00:00\", \"google\": 29.0}, {\"day\": \"2018-05-09T00:00:00\", \"google\": 26.0}, {\"day\": \"2018-05-10T00:00:00\", \"google\": 28.0}, {\"day\": \"2018-05-11T00:00:00\", \"google\": 29.0}, {\"day\": \"2018-05-12T00:00:00\", \"google\": 29.0}, {\"day\": \"2018-05-14T00:00:00\", \"google\": 28.0}, {\"day\": \"2018-05-15T00:00:00\", \"google\": 27.0}, {\"day\": \"2018-05-16T00:00:00\", \"google\": 23.0}, {\"day\": \"2018-05-17T00:00:00\", \"google\": 23.0}, {\"day\": \"2018-05-18T00:00:00\", \"google\": 21.0}, {\"day\": \"2018-05-19T00:00:00\", \"google\": 21.0}, {\"day\": \"2018-05-21T00:00:00\", \"google\": 26.0}, {\"day\": \"2018-05-22T00:00:00\", \"google\": 27.0}, {\"day\": \"2018-05-23T00:00:00\", \"google\": 29.0}, {\"day\": \"2018-05-24T00:00:00\", \"google\": 35.0}, {\"day\": \"2018-05-25T00:00:00\", \"google\": 38.0}, {\"day\": \"2018-05-26T00:00:00\", \"google\": 36.0}, {\"day\": \"2018-05-28T00:00:00\", \"google\": 35.0}, {\"day\": \"2018-05-29T00:00:00\", \"google\": 36.0}, {\"day\": \"2018-05-30T00:00:00\", \"google\": 36.0}, {\"day\": \"2018-05-31T00:00:00\", \"google\": 37.0}, {\"day\": \"2018-06-01T00:00:00\", \"google\": 40.0}, {\"day\": \"2018-06-02T00:00:00\", \"google\": 40.0}, {\"day\": \"2018-06-04T00:00:00\", \"google\": 39.0}, {\"day\": \"2018-06-05T00:00:00\", \"google\": 40.0}, {\"day\": \"2018-06-06T00:00:00\", \"google\": 43.0}, {\"day\": \"2018-06-07T00:00:00\", \"google\": 43.0}, {\"day\": \"2018-06-08T00:00:00\", \"google\": 42.0}, {\"day\": \"2018-06-09T00:00:00\", \"google\": 45.0}, {\"day\": \"2018-06-11T00:00:00\", \"google\": 49.0}, {\"day\": \"2018-06-12T00:00:00\", \"google\": 52.0}, {\"day\": \"2018-06-13T00:00:00\", \"google\": 57.0}, {\"day\": \"2018-06-14T00:00:00\", \"google\": 60.0}, {\"day\": \"2018-06-15T00:00:00\", \"google\": 63.0}, {\"day\": \"2018-06-16T00:00:00\", \"google\": 63.0}, {\"day\": \"2018-06-18T00:00:00\", \"google\": 62.0}, {\"day\": \"2018-06-19T00:00:00\", \"google\": 63.0}, {\"day\": \"2018-06-20T00:00:00\", \"google\": 61.0}, {\"day\": \"2018-06-21T00:00:00\", \"google\": 61.0}, {\"day\": \"2018-06-22T00:00:00\", \"google\": 58.0}, {\"day\": \"2018-06-23T00:00:00\", \"google\": 58.0}, {\"day\": \"2018-06-25T00:00:00\", \"google\": 57.0}, {\"day\": \"2018-06-26T00:00:00\", \"google\": 58.0}, {\"day\": \"2018-06-27T00:00:00\", \"google\": 59.0}, {\"day\": \"2018-06-28T00:00:00\", \"google\": 63.0}, {\"day\": \"2018-06-29T00:00:00\", \"google\": 66.0}, {\"day\": \"2018-06-30T00:00:00\", \"google\": 69.0}, {\"day\": \"2018-07-01T00:00:00\", \"google\": 70.0}, {\"day\": \"2018-07-02T00:00:00\", \"google\": 72.0}, {\"day\": \"2018-07-03T00:00:00\", \"google\": 70.0}, {\"day\": \"2018-07-04T00:00:00\", \"google\": 67.0}, {\"day\": \"2018-07-05T00:00:00\", \"google\": 65.0}, {\"day\": \"2018-07-06T00:00:00\", \"google\": 70.0}, {\"day\": \"2018-07-07T00:00:00\", \"google\": 71.0}, {\"day\": \"2018-07-08T00:00:00\", \"google\": 72.0}, {\"day\": \"2018-07-09T00:00:00\", \"google\": 69.0}, {\"day\": \"2018-07-10T00:00:00\", \"google\": 67.0}, {\"day\": \"2018-07-11T00:00:00\", \"google\": 69.0}, {\"day\": \"2018-07-12T00:00:00\", \"google\": 69.0}, {\"day\": \"2018-07-13T00:00:00\", \"google\": 68.0}, {\"day\": \"2018-07-14T00:00:00\", \"google\": 70.0}, {\"day\": \"2018-07-16T00:00:00\", \"google\": 69.0}, {\"day\": \"2018-07-17T00:00:00\", \"google\": 68.0}, {\"day\": \"2018-07-18T00:00:00\", \"google\": 69.0}, {\"day\": \"2018-07-19T00:00:00\", \"google\": 67.0}, {\"day\": \"2018-07-20T00:00:00\", \"google\": 69.0}, {\"day\": \"2018-07-23T00:00:00\", \"google\": 71.0}, {\"day\": \"2018-07-24T00:00:00\", \"google\": 71.0}, {\"day\": \"2018-07-25T00:00:00\", \"google\": 76.0}, {\"day\": \"2018-07-26T00:00:00\", \"google\": 73.0}, {\"day\": \"2018-07-27T00:00:00\", \"google\": 68.0}, {\"day\": \"2018-07-28T00:00:00\", \"google\": 65.0}, {\"day\": \"2018-07-29T00:00:00\", \"google\": 65.0}, {\"day\": \"2018-07-30T00:00:00\", \"google\": 67.0}, {\"day\": \"2018-07-31T00:00:00\", \"google\": 69.0}, {\"day\": \"2018-08-01T00:00:00\", \"google\": 72.0}, {\"day\": \"2018-08-02T00:00:00\", \"google\": 71.0}, {\"day\": \"2018-08-03T00:00:00\", \"google\": 70.0}, {\"day\": \"2018-08-04T00:00:00\", \"google\": 67.0}, {\"day\": \"2018-08-05T00:00:00\", \"google\": 66.0}, {\"day\": \"2018-08-06T00:00:00\", \"google\": 67.0}, {\"day\": \"2018-08-07T00:00:00\", \"google\": 68.0}, {\"day\": \"2018-08-08T00:00:00\", \"google\": 64.0}, {\"day\": \"2018-08-09T00:00:00\", \"google\": 62.0}, {\"day\": \"2018-08-10T00:00:00\", \"google\": 69.0}, {\"day\": \"2018-08-11T00:00:00\", \"google\": 69.0}, {\"day\": \"2018-08-12T00:00:00\", \"google\": 70.0}, {\"day\": \"2018-08-13T00:00:00\", \"google\": 72.0}, {\"day\": \"2018-08-14T00:00:00\", \"google\": 74.0}, {\"day\": \"2018-08-15T00:00:00\", \"google\": 75.0}, {\"day\": \"2018-08-16T00:00:00\", \"google\": 71.0}, {\"day\": \"2018-08-17T00:00:00\", \"google\": 71.0}, {\"day\": \"2018-08-18T00:00:00\", \"google\": 72.0}, {\"day\": \"2018-08-19T00:00:00\", \"google\": 73.0}, {\"day\": \"2018-08-20T00:00:00\", \"google\": 71.0}, {\"day\": \"2018-08-21T00:00:00\", \"google\": 71.0}, {\"day\": \"2018-08-22T00:00:00\", \"google\": 68.0}, {\"day\": \"2018-08-23T00:00:00\", \"google\": 70.0}, {\"day\": \"2018-08-24T00:00:00\", \"google\": 72.0}, {\"day\": \"2018-08-25T00:00:00\", \"google\": 76.0}, {\"day\": \"2018-08-26T00:00:00\", \"google\": 75.0}, {\"day\": \"2018-08-27T00:00:00\", \"google\": 75.0}, {\"day\": \"2018-08-28T00:00:00\", \"google\": 73.0}, {\"day\": \"2018-08-29T00:00:00\", \"google\": 76.0}, {\"day\": \"2018-08-30T00:00:00\", \"google\": 79.0}, {\"day\": \"2018-08-31T00:00:00\", \"google\": 79.0}, {\"day\": \"2018-09-01T00:00:00\", \"google\": 79.0}, {\"day\": \"2018-09-02T00:00:00\", \"google\": 79.0}, {\"day\": \"2018-09-03T00:00:00\", \"google\": 80.0}, {\"day\": \"2018-09-04T00:00:00\", \"google\": 78.0}, {\"day\": \"2018-09-05T00:00:00\", \"google\": 76.0}, {\"day\": \"2018-09-06T00:00:00\", \"google\": 76.0}, {\"day\": \"2018-09-07T00:00:00\", \"google\": 67.0}, {\"day\": \"2018-09-09T00:00:00\", \"google\": 66.0}, {\"day\": \"2018-09-10T00:00:00\", \"google\": 66.0}, {\"day\": \"2018-09-11T00:00:00\", \"google\": 63.0}, {\"day\": \"2018-09-12T00:00:00\", \"google\": 58.0}, {\"day\": \"2018-09-13T00:00:00\", \"google\": 61.0}, {\"day\": \"2018-09-14T00:00:00\", \"google\": 60.0}, {\"day\": \"2018-09-15T00:00:00\", \"google\": 59.0}, {\"day\": \"2018-09-16T00:00:00\", \"google\": 59.0}, {\"day\": \"2018-09-17T00:00:00\", \"google\": 60.0}, {\"day\": \"2018-09-18T00:00:00\", \"google\": 59.0}, {\"day\": \"2018-09-19T00:00:00\", \"google\": 62.0}, {\"day\": \"2018-09-20T00:00:00\", \"google\": 60.0}, {\"day\": \"2018-09-21T00:00:00\", \"google\": 68.0}, {\"day\": \"2018-09-22T00:00:00\", \"google\": 67.0}, {\"day\": \"2018-09-23T00:00:00\", \"google\": 70.0}, {\"day\": \"2018-09-24T00:00:00\", \"google\": 68.0}, {\"day\": \"2018-09-25T00:00:00\", \"google\": 71.0}, {\"day\": \"2018-09-26T00:00:00\", \"google\": 66.0}, {\"day\": \"2018-09-27T00:00:00\", \"google\": 66.0}, {\"day\": \"2018-09-28T00:00:00\", \"google\": 66.0}, {\"day\": \"2018-09-29T00:00:00\", \"google\": 70.0}, {\"day\": \"2018-10-01T00:00:00\", \"google\": 72.0}, {\"day\": \"2018-10-02T00:00:00\", \"google\": 75.0}, {\"day\": \"2018-10-03T00:00:00\", \"google\": 79.0}, {\"day\": \"2018-10-04T00:00:00\", \"google\": 82.0}, {\"day\": \"2018-10-05T00:00:00\", \"google\": 87.0}, {\"day\": \"2018-10-06T00:00:00\", \"google\": 87.0}, {\"day\": \"2018-10-07T00:00:00\", \"google\": 87.0}, {\"day\": \"2018-10-08T00:00:00\", \"google\": 87.0}, {\"day\": \"2018-10-09T00:00:00\", \"google\": 90.0}, {\"day\": \"2018-10-10T00:00:00\", \"google\": 90.0}, {\"day\": \"2018-10-11T00:00:00\", \"google\": 91.0}, {\"day\": \"2018-10-12T00:00:00\", \"google\": 93.0}, {\"day\": \"2018-10-13T00:00:00\", \"google\": 94.0}, {\"day\": \"2018-10-14T00:00:00\", \"google\": 96.0}, {\"day\": \"2018-10-15T00:00:00\", \"google\": 103.0}, {\"day\": \"2018-10-16T00:00:00\", \"google\": 105.0}, {\"day\": \"2018-10-17T00:00:00\", \"google\": 109.0}, {\"day\": \"2018-10-18T00:00:00\", \"google\": 110.0}, {\"day\": \"2018-10-19T00:00:00\", \"google\": 102.0}, {\"day\": \"2018-10-20T00:00:00\", \"google\": 102.0}, {\"day\": \"2018-10-22T00:00:00\", \"google\": 97.0}, {\"day\": \"2018-10-23T00:00:00\", \"google\": 94.0}, {\"day\": \"2018-10-24T00:00:00\", \"google\": 97.0}, {\"day\": \"2018-10-25T00:00:00\", \"google\": 100.0}, {\"day\": \"2018-10-26T00:00:00\", \"google\": 99.0}, {\"day\": \"2018-10-27T00:00:00\", \"google\": 94.0}, {\"day\": \"2018-10-28T00:00:00\", \"google\": 95.0}, {\"day\": \"2018-10-29T00:00:00\", \"google\": 91.0}, {\"day\": \"2018-10-30T00:00:00\", \"google\": 88.0}, {\"day\": \"2018-10-31T00:00:00\", \"google\": 88.0}, {\"day\": \"2018-11-01T00:00:00\", \"google\": 88.0}, {\"day\": \"2018-11-02T00:00:00\", \"google\": 87.0}, {\"day\": \"2018-11-03T00:00:00\", \"google\": 91.0}, {\"day\": \"2018-11-04T00:00:00\", \"google\": 90.0}, {\"day\": \"2018-11-05T00:00:00\", \"google\": 89.0}, {\"day\": \"2018-11-06T00:00:00\", \"google\": 92.0}, {\"day\": \"2018-11-07T00:00:00\", \"google\": 93.0}, {\"day\": \"2018-11-08T00:00:00\", \"google\": 101.0}, {\"day\": \"2018-11-09T00:00:00\", \"google\": 111.0}, {\"day\": \"2018-11-10T00:00:00\", \"google\": 119.0}, {\"day\": \"2018-11-11T00:00:00\", \"google\": 121.0}, {\"day\": \"2018-11-12T00:00:00\", \"google\": 126.0}, {\"day\": \"2018-11-13T00:00:00\", \"google\": 134.0}, {\"day\": \"2018-11-14T00:00:00\", \"google\": 129.0}, {\"day\": \"2018-11-15T00:00:00\", \"google\": 140.0}, {\"day\": \"2018-11-16T00:00:00\", \"google\": 145.0}, {\"day\": \"2018-11-17T00:00:00\", \"google\": 146.0}, {\"day\": \"2018-11-18T00:00:00\", \"google\": 146.0}, {\"day\": \"2018-11-19T00:00:00\", \"google\": 151.0}, {\"day\": \"2018-11-20T00:00:00\", \"google\": 166.0}, {\"day\": \"2018-11-21T00:00:00\", \"google\": 174.0}, {\"day\": \"2018-11-22T00:00:00\", \"google\": 176.0}, {\"day\": \"2018-11-23T00:00:00\", \"google\": 175.0}, {\"day\": \"2018-11-24T00:00:00\", \"google\": 178.0}, {\"day\": \"2018-11-25T00:00:00\", \"google\": 179.0}, {\"day\": \"2018-11-26T00:00:00\", \"google\": 189.0}, {\"day\": \"2018-11-27T00:00:00\", \"google\": 201.0}, {\"day\": \"2018-11-28T00:00:00\", \"google\": 212.0}, {\"day\": \"2018-11-29T00:00:00\", \"google\": 220.0}, {\"day\": \"2018-11-30T00:00:00\", \"google\": 227.0}, {\"day\": \"2018-12-01T00:00:00\", \"google\": 230.0}, {\"day\": \"2018-12-02T00:00:00\", \"google\": 229.0}, {\"day\": \"2018-12-03T00:00:00\", \"google\": 229.0}, {\"day\": \"2018-12-04T00:00:00\", \"google\": 233.0}, {\"day\": \"2018-12-05T00:00:00\", \"google\": 240.0}, {\"day\": \"2018-12-06T00:00:00\", \"google\": 236.0}, {\"day\": \"2018-12-07T00:00:00\", \"google\": 231.0}, {\"day\": \"2018-12-08T00:00:00\", \"google\": 228.0}, {\"day\": \"2018-12-09T00:00:00\", \"google\": 224.0}, {\"day\": \"2018-12-10T00:00:00\", \"google\": 214.0}, {\"day\": \"2018-12-11T00:00:00\", \"google\": 211.0}, {\"day\": \"2018-12-12T00:00:00\", \"google\": 209.0}, {\"day\": \"2018-12-13T00:00:00\", \"google\": 200.0}, {\"day\": \"2018-12-14T00:00:00\", \"google\": 197.0}, {\"day\": \"2018-12-15T00:00:00\", \"google\": 194.0}, {\"day\": \"2018-12-16T00:00:00\", \"google\": 196.0}, {\"day\": \"2018-12-17T00:00:00\", \"google\": 203.0}, {\"day\": \"2018-12-18T00:00:00\", \"google\": 197.0}, {\"day\": \"2018-12-19T00:00:00\", \"google\": 190.0}, {\"day\": \"2018-12-20T00:00:00\", \"google\": 187.0}, {\"day\": \"2018-12-21T00:00:00\", \"google\": 196.0}, {\"day\": \"2018-12-22T00:00:00\", \"google\": 196.0}, {\"day\": \"2018-12-23T00:00:00\", \"google\": 196.0}, {\"day\": \"2018-12-24T00:00:00\", \"google\": 185.0}, {\"day\": \"2018-12-25T00:00:00\", \"google\": 172.0}, {\"day\": \"2018-12-26T00:00:00\", \"google\": 158.0}, {\"day\": \"2018-12-27T00:00:00\", \"google\": 153.0}, {\"day\": \"2018-12-28T00:00:00\", \"google\": 147.0}, {\"day\": \"2018-12-29T00:00:00\", \"google\": 144.0}, {\"day\": \"2018-12-30T00:00:00\", \"google\": 147.0}, {\"day\": \"2019-01-02T00:00:00\", \"google\": 126.0}, {\"day\": \"2019-01-03T00:00:00\", \"google\": 131.0}, {\"day\": \"2019-01-04T00:00:00\", \"google\": 136.0}, {\"day\": \"2019-01-05T00:00:00\", \"google\": 139.0}, {\"day\": \"2019-01-06T00:00:00\", \"google\": 138.0}, {\"day\": \"2019-01-07T00:00:00\", \"google\": 139.0}, {\"day\": \"2019-01-08T00:00:00\", \"google\": 135.0}, {\"day\": \"2019-01-09T00:00:00\", \"google\": 139.0}, {\"day\": \"2019-01-10T00:00:00\", \"google\": 141.0}, {\"day\": \"2019-01-11T00:00:00\", \"google\": 144.0}, {\"day\": \"2019-01-12T00:00:00\", \"google\": 147.0}, {\"day\": \"2019-01-13T00:00:00\", \"google\": 148.0}, {\"day\": \"2019-01-14T00:00:00\", \"google\": 146.0}, {\"day\": \"2019-01-15T00:00:00\", \"google\": 144.0}, {\"day\": \"2019-01-16T00:00:00\", \"google\": 146.0}, {\"day\": \"2019-01-17T00:00:00\", \"google\": 147.0}, {\"day\": \"2019-01-18T00:00:00\", \"google\": 140.0}, {\"day\": \"2019-01-19T00:00:00\", \"google\": 138.0}, {\"day\": \"2019-01-20T00:00:00\", \"google\": 136.0}, {\"day\": \"2019-01-21T00:00:00\", \"google\": 144.0}, {\"day\": \"2019-01-22T00:00:00\", \"google\": 146.0}, {\"day\": \"2019-01-23T00:00:00\", \"google\": 148.0}, {\"day\": \"2019-01-24T00:00:00\", \"google\": 147.0}, {\"day\": \"2019-01-25T00:00:00\", \"google\": 148.0}, {\"day\": \"2019-01-26T00:00:00\", \"google\": 149.0}, {\"day\": \"2019-01-27T00:00:00\", \"google\": 148.0}, {\"day\": \"2019-01-28T00:00:00\", \"google\": 154.0}, {\"day\": \"2019-01-29T00:00:00\", \"google\": 158.0}, {\"day\": \"2019-01-30T00:00:00\", \"google\": 160.0}, {\"day\": \"2019-01-31T00:00:00\", \"google\": 152.0}, {\"day\": \"2019-02-01T00:00:00\", \"google\": 140.0}, {\"day\": \"2019-02-02T00:00:00\", \"google\": 134.0}, {\"day\": \"2019-02-03T00:00:00\", \"google\": 135.0}, {\"day\": \"2019-02-04T00:00:00\", \"google\": 136.0}, {\"day\": \"2019-02-05T00:00:00\", \"google\": 143.0}, {\"day\": \"2019-02-06T00:00:00\", \"google\": 139.0}, {\"day\": \"2019-02-07T00:00:00\", \"google\": 141.0}, {\"day\": \"2019-02-08T00:00:00\", \"google\": 139.0}, {\"day\": \"2019-02-09T00:00:00\", \"google\": 137.0}, {\"day\": \"2019-02-10T00:00:00\", \"google\": 136.0}, {\"day\": \"2019-02-11T00:00:00\", \"google\": 134.0}, {\"day\": \"2019-02-12T00:00:00\", \"google\": 134.0}, {\"day\": \"2019-02-13T00:00:00\", \"google\": 135.0}, {\"day\": \"2019-02-14T00:00:00\", \"google\": 138.0}, {\"day\": \"2019-02-15T00:00:00\", \"google\": 141.0}, {\"day\": \"2019-02-16T00:00:00\", \"google\": 142.0}, {\"day\": \"2019-02-17T00:00:00\", \"google\": 144.0}, {\"day\": \"2019-02-18T00:00:00\", \"google\": 139.0}, {\"day\": \"2019-02-19T00:00:00\", \"google\": 142.0}, {\"day\": \"2019-02-20T00:00:00\", \"google\": 139.0}, {\"day\": \"2019-02-21T00:00:00\", \"google\": 140.0}, {\"day\": \"2019-02-22T00:00:00\", \"google\": 141.0}, {\"day\": \"2019-02-23T00:00:00\", \"google\": 140.0}, {\"day\": \"2019-02-24T00:00:00\", \"google\": 141.0}, {\"day\": \"2019-02-25T00:00:00\", \"google\": 138.0}, {\"day\": \"2019-02-26T00:00:00\", \"google\": 138.0}, {\"day\": \"2019-02-27T00:00:00\", \"google\": 140.0}, {\"day\": \"2019-02-28T00:00:00\", \"google\": 146.0}, {\"day\": \"2019-03-01T00:00:00\", \"google\": 157.0}, {\"day\": \"2019-03-02T00:00:00\", \"google\": 156.0}, {\"day\": \"2019-03-03T00:00:00\", \"google\": 157.0}, {\"day\": \"2019-03-04T00:00:00\", \"google\": 161.0}, {\"day\": \"2019-03-05T00:00:00\", \"google\": 156.0}, {\"day\": \"2019-03-06T00:00:00\", \"google\": 165.0}, {\"day\": \"2019-03-07T00:00:00\", \"google\": 171.0}, {\"day\": \"2019-03-08T00:00:00\", \"google\": 171.0}, {\"day\": \"2019-03-09T00:00:00\", \"google\": 172.0}, {\"day\": \"2019-03-10T00:00:00\", \"google\": 172.0}, {\"day\": \"2019-03-11T00:00:00\", \"google\": 168.0}, {\"day\": \"2019-03-12T00:00:00\", \"google\": 161.0}, {\"day\": \"2019-03-13T00:00:00\", \"google\": 155.0}, {\"day\": \"2019-03-14T00:00:00\", \"google\": 152.0}, {\"day\": \"2019-03-15T00:00:00\", \"google\": 152.0}, {\"day\": \"2019-03-16T00:00:00\", \"google\": 152.0}, {\"day\": \"2019-03-18T00:00:00\", \"google\": 151.0}, {\"day\": \"2019-03-19T00:00:00\", \"google\": 156.0}, {\"day\": \"2019-03-20T00:00:00\", \"google\": 162.0}, {\"day\": \"2019-03-21T00:00:00\", \"google\": 162.0}, {\"day\": \"2019-03-22T00:00:00\", \"google\": 167.0}, {\"day\": \"2019-03-23T00:00:00\", \"google\": 168.0}, {\"day\": \"2019-03-24T00:00:00\", \"google\": 169.0}, {\"day\": \"2019-03-25T00:00:00\", \"google\": 178.0}, {\"day\": \"2019-03-26T00:00:00\", \"google\": 185.0}, {\"day\": \"2019-03-27T00:00:00\", \"google\": 192.0}, {\"day\": \"2019-03-28T00:00:00\", \"google\": 191.0}, {\"day\": \"2019-03-29T00:00:00\", \"google\": 192.0}, {\"day\": \"2019-03-30T00:00:00\", \"google\": 195.0}, {\"day\": \"2019-03-31T00:00:00\", \"google\": 194.0}, {\"day\": \"2019-04-01T00:00:00\", \"google\": 191.0}, {\"day\": \"2019-04-02T00:00:00\", \"google\": 199.0}, {\"day\": \"2019-04-03T00:00:00\", \"google\": 196.0}, {\"day\": \"2019-04-04T00:00:00\", \"google\": 193.0}, {\"day\": \"2019-04-05T00:00:00\", \"google\": 208.0}, {\"day\": \"2019-04-06T00:00:00\", \"google\": 217.0}, {\"day\": \"2019-04-07T00:00:00\", \"google\": 217.0}, {\"day\": \"2019-04-08T00:00:00\", \"google\": 224.0}, {\"day\": \"2019-04-09T00:00:00\", \"google\": 237.0}, {\"day\": \"2019-04-10T00:00:00\", \"google\": 244.0}, {\"day\": \"2019-04-11T00:00:00\", \"google\": 245.0}, {\"day\": \"2019-04-12T00:00:00\", \"google\": 245.0}, {\"day\": \"2019-04-13T00:00:00\", \"google\": 244.0}, {\"day\": \"2019-04-14T00:00:00\", \"google\": 246.0}, {\"day\": \"2019-04-15T00:00:00\", \"google\": 252.0}, {\"day\": \"2019-04-16T00:00:00\", \"google\": 251.0}, {\"day\": \"2019-04-17T00:00:00\", \"google\": 246.0}, {\"day\": \"2019-04-18T00:00:00\", \"google\": 246.0}, {\"day\": \"2019-04-19T00:00:00\", \"google\": 243.0}, {\"day\": \"2019-04-20T00:00:00\", \"google\": 240.0}, {\"day\": \"2019-04-21T00:00:00\", \"google\": 237.0}, {\"day\": \"2019-04-22T00:00:00\", \"google\": 238.0}, {\"day\": \"2019-04-23T00:00:00\", \"google\": 242.0}, {\"day\": \"2019-04-24T00:00:00\", \"google\": 233.0}, {\"day\": \"2019-04-25T00:00:00\", \"google\": 235.0}, {\"day\": \"2019-04-26T00:00:00\", \"google\": 230.0}, {\"day\": \"2019-04-28T00:00:00\", \"google\": 224.0}, {\"day\": \"2019-04-29T00:00:00\", \"google\": 226.0}, {\"day\": \"2019-04-30T00:00:00\", \"google\": 222.0}]}}, {\"mode\": \"vega-lite\"});\n",
       "</script>"
      ],
      "text/plain": [
       "alt.LayerChart(...)"
      ]
     },
     "execution_count": 23,
     "metadata": {},
     "output_type": "execute_result"
    }
   ],
   "source": [
    "counts_df = pd.DataFrame({\"day\": counts[\"google\"].index, \"google\": counts[\"google\"].values})\n",
    "import altair as alt\n",
    "chart = alt.Chart(counts_df, title= \"PRs\")\n",
    "line = chart.mark_line().encode(\n",
    "  x= alt.X('day', title = \"Day\"),\n",
    "  y=alt.Y(\"google\", title=\"# PRs\"),    \n",
    ")\n",
    "\n",
    "point = line + line.mark_point()\n",
    "point.interactive()"
   ]
  },
  {
   "cell_type": "code",
   "execution_count": 14,
   "metadata": {},
   "outputs": [
    {
     "ename": "ModuleNotFoundError",
     "evalue": "No module named 'plotly'",
     "output_type": "error",
     "traceback": [
      "\u001b[0;31m---------------------------------------------------------------------------\u001b[0m",
      "\u001b[0;31mModuleNotFoundError\u001b[0m                       Traceback (most recent call last)",
      "\u001b[0;32m<ipython-input-14-30ada16099eb>\u001b[0m in \u001b[0;36m<module>\u001b[0;34m\u001b[0m\n\u001b[1;32m      7\u001b[0m \u001b[0;31m# https://plot.ly/python/getting-started/\u001b[0m\u001b[0;34m\u001b[0m\u001b[0;34m\u001b[0m\u001b[0;34m\u001b[0m\u001b[0m\n\u001b[1;32m      8\u001b[0m \u001b[0;31m# You will need to setup an account\u001b[0m\u001b[0;34m\u001b[0m\u001b[0;34m\u001b[0m\u001b[0;34m\u001b[0m\u001b[0m\n\u001b[0;32m----> 9\u001b[0;31m \u001b[0;32mimport\u001b[0m \u001b[0mplotly\u001b[0m\u001b[0;34m\u001b[0m\u001b[0;34m\u001b[0m\u001b[0m\n\u001b[0m\u001b[1;32m     10\u001b[0m \u001b[0;32mimport\u001b[0m \u001b[0mplotly\u001b[0m\u001b[0;34m.\u001b[0m\u001b[0mplotly\u001b[0m \u001b[0;32mas\u001b[0m \u001b[0mpy\u001b[0m\u001b[0;34m\u001b[0m\u001b[0;34m\u001b[0m\u001b[0m\n\u001b[1;32m     11\u001b[0m \u001b[0;32mimport\u001b[0m \u001b[0mplotly\u001b[0m\u001b[0;34m.\u001b[0m\u001b[0mgraph_objs\u001b[0m \u001b[0;32mas\u001b[0m \u001b[0mgo\u001b[0m\u001b[0;34m\u001b[0m\u001b[0;34m\u001b[0m\u001b[0m\n",
      "\u001b[0;31mModuleNotFoundError\u001b[0m: No module named 'plotly'"
     ]
    }
   ],
   "source": [
    "# Use plotly cufflinks to plot data frames\n",
    "# https://plot.ly/ipython-notebooks/cufflinks/\n",
    "# instructions for offline plotting\n",
    "# https://plot.ly/python/getting-started/#initialization-for-offline-plotting\n",
    "#\n",
    "# Follow the instructions for online plotting:\n",
    "# https://plot.ly/python/getting-started/\n",
    "# You will need to setup an account\n",
    "import plotly\n",
    "import plotly.plotly as py\n",
    "import plotly.graph_objs as go\n",
    "import cufflinks as cf\n",
    "#from importlib import reload\n",
    "import itertools"
   ]
  },
  {
   "cell_type": "code",
   "execution_count": null,
   "metadata": {},
   "outputs": [],
   "source": [
    "trace = go.Pie(labels=counts.columns, values=counts.iloc[-1], title=\"PRs Created Last 28 days\")\n",
    "py.iplot([trace], filename='basic_pie_chart')"
   ]
  },
  {
   "cell_type": "code",
   "execution_count": null,
   "metadata": {},
   "outputs": [],
   "source": [
    "d=counts.iloc[-1]\n",
    "total = d.sum()\n",
    "google_prs= d[\"google\"]\n",
    "other = total - google_prs"
   ]
  },
  {
   "cell_type": "code",
   "execution_count": null,
   "metadata": {},
   "outputs": [],
   "source": [
    "\n",
    "trace = go.Pie(labels=[\"google\", \"other\"], values=[google_prs, other], title=\"PRs Created Last 28 days\")\n",
    "py.iplot([trace], filename='basic_pie_chart')"
   ]
  }
 ],
 "metadata": {
  "kernelspec": {
   "display_name": "Python 3",
   "language": "python",
   "name": "python3"
  },
  "language_info": {
   "codemirror_mode": {
    "name": "ipython",
    "version": 3
   },
   "file_extension": ".py",
   "mimetype": "text/x-python",
   "name": "python",
   "nbconvert_exporter": "python",
   "pygments_lexer": "ipython3",
   "version": "3.6.9"
  }
 },
 "nbformat": 4,
 "nbformat_minor": 2
}
