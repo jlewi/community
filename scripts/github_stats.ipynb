{
 "cells": [
  {
   "cell_type": "markdown",
   "metadata": {},
   "source": [
    "# Compute GitHub Stats"
   ]
  },
  {
   "cell_type": "markdown",
   "metadata": {},
   "source": [
    "## Notebook setup"
   ]
  },
  {
   "cell_type": "code",
   "execution_count": 3,
   "metadata": {},
   "outputs": [],
   "source": [
    "import os\n",
    "import subprocess\n",
    "if os.path.exists(\"/var/run/secrets/kubernetes.io/serviceaccount\"):\n",
    "    subprocess.check_call([\"pip\", \"install\", \"--user\", \"-r\", \"requirements.txt\"], stderr=subprocess.STDOUT, bufsize=1)"
   ]
  },
  {
   "cell_type": "code",
   "execution_count": 10,
   "metadata": {},
   "outputs": [],
   "source": [
    "# NOTE: The RuntimeWarnings (if any) are harmless. See ContinuumIO/anaconda-issues#6678.\n",
    "import altair as alt\n",
    "from pandas.io import gbq\n",
    "import pandas as pd\n",
    "import numpy as np\n",
    "\n",
    "from importlib import reload\n",
    "import itertools"
   ]
  },
  {
   "cell_type": "code",
   "execution_count": 5,
   "metadata": {},
   "outputs": [],
   "source": [
    "import getpass\n",
    "import subprocess\n",
    "# Configuration Variables. Modify as desired.\n",
    "\n",
    "PROJECT = subprocess.check_output([\"gcloud\", \"config\", \"get-value\", \"project\"]).strip().decode()"
   ]
  },
  {
   "cell_type": "code",
   "execution_count": 8,
   "metadata": {},
   "outputs": [],
   "source": [
    "#matplotlib"
   ]
  },
  {
   "cell_type": "markdown",
   "metadata": {},
   "source": [
    "## Setup Authorization\n",
    "\n",
    "If you are using a service account run\n",
    "%%bash\n",
    "\n",
    "# Activate Service Account provided by Kubeflow.\n",
    "gcloud auth activate-service-account --key-file=${GOOGLE_APPLICATION_CREDENTIALS}\n",
    "\n",
    "If you are running using user credentials\n",
    "\n",
    "gcloud auth application-default login"
   ]
  },
  {
   "cell_type": "code",
   "execution_count": 6,
   "metadata": {},
   "outputs": [],
   "source": [
    "import datetime\n",
    "month = datetime.datetime.now().month\n",
    "year = datetime.datetime.now().year\n",
    "\n",
    "num_months = 12\n",
    "\n",
    "months = []\n",
    "for i in range(num_months):\n",
    "    months.append(\"\\\"{0}{1:02}\\\"\".format(year, month))\n",
    "    month -= 1\n",
    "    if month == 0:\n",
    "        month = 12\n",
    "        year -=1"
   ]
  },
  {
   "cell_type": "markdown",
   "metadata": {},
   "source": [
    "## Unique PR Creators"
   ]
  },
  {
   "cell_type": "code",
   "execution_count": 11,
   "metadata": {},
   "outputs": [
    {
     "ename": "KeyboardInterrupt",
     "evalue": "",
     "output_type": "error",
     "traceback": [
      "\u001b[0;31m---------------------------------------------------------------------------\u001b[0m",
      "\u001b[0;31mTypeError\u001b[0m                                 Traceback (most recent call last)",
      "\u001b[0;32m/usr/local/lib/python3.7/dist-packages/urllib3/connectionpool.py\u001b[0m in \u001b[0;36m_make_request\u001b[0;34m(self, conn, method, url, timeout, chunked, **httplib_request_kw)\u001b[0m\n\u001b[1;32m    378\u001b[0m                 \u001b[0;31m# Python 2.7, use buffering of HTTP responses\u001b[0m\u001b[0;34m\u001b[0m\u001b[0;34m\u001b[0m\u001b[0;34m\u001b[0m\u001b[0m\n\u001b[0;32m--> 379\u001b[0;31m                 \u001b[0mhttplib_response\u001b[0m \u001b[0;34m=\u001b[0m \u001b[0mconn\u001b[0m\u001b[0;34m.\u001b[0m\u001b[0mgetresponse\u001b[0m\u001b[0;34m(\u001b[0m\u001b[0mbuffering\u001b[0m\u001b[0;34m=\u001b[0m\u001b[0;32mTrue\u001b[0m\u001b[0;34m)\u001b[0m\u001b[0;34m\u001b[0m\u001b[0;34m\u001b[0m\u001b[0m\n\u001b[0m\u001b[1;32m    380\u001b[0m             \u001b[0;32mexcept\u001b[0m \u001b[0mTypeError\u001b[0m\u001b[0;34m:\u001b[0m\u001b[0;34m\u001b[0m\u001b[0;34m\u001b[0m\u001b[0m\n",
      "\u001b[0;31mTypeError\u001b[0m: getresponse() got an unexpected keyword argument 'buffering'",
      "\nDuring handling of the above exception, another exception occurred:\n",
      "\u001b[0;31mWantReadError\u001b[0m                             Traceback (most recent call last)",
      "\u001b[0;32m/usr/local/lib/python3.7/dist-packages/urllib3/contrib/pyopenssl.py\u001b[0m in \u001b[0;36mrecv_into\u001b[0;34m(self, *args, **kwargs)\u001b[0m\n\u001b[1;32m    303\u001b[0m         \u001b[0;32mtry\u001b[0m\u001b[0;34m:\u001b[0m\u001b[0;34m\u001b[0m\u001b[0;34m\u001b[0m\u001b[0m\n\u001b[0;32m--> 304\u001b[0;31m             \u001b[0;32mreturn\u001b[0m \u001b[0mself\u001b[0m\u001b[0;34m.\u001b[0m\u001b[0mconnection\u001b[0m\u001b[0;34m.\u001b[0m\u001b[0mrecv_into\u001b[0m\u001b[0;34m(\u001b[0m\u001b[0;34m*\u001b[0m\u001b[0margs\u001b[0m\u001b[0;34m,\u001b[0m \u001b[0;34m**\u001b[0m\u001b[0mkwargs\u001b[0m\u001b[0;34m)\u001b[0m\u001b[0;34m\u001b[0m\u001b[0;34m\u001b[0m\u001b[0m\n\u001b[0m\u001b[1;32m    305\u001b[0m         \u001b[0;32mexcept\u001b[0m \u001b[0mOpenSSL\u001b[0m\u001b[0;34m.\u001b[0m\u001b[0mSSL\u001b[0m\u001b[0;34m.\u001b[0m\u001b[0mSysCallError\u001b[0m \u001b[0;32mas\u001b[0m \u001b[0me\u001b[0m\u001b[0;34m:\u001b[0m\u001b[0;34m\u001b[0m\u001b[0;34m\u001b[0m\u001b[0m\n",
      "\u001b[0;32m/usr/lib/python3/dist-packages/OpenSSL/SSL.py\u001b[0m in \u001b[0;36mrecv_into\u001b[0;34m(self, buffer, nbytes, flags)\u001b[0m\n\u001b[1;32m   1821\u001b[0m             \u001b[0mresult\u001b[0m \u001b[0;34m=\u001b[0m \u001b[0m_lib\u001b[0m\u001b[0;34m.\u001b[0m\u001b[0mSSL_read\u001b[0m\u001b[0;34m(\u001b[0m\u001b[0mself\u001b[0m\u001b[0;34m.\u001b[0m\u001b[0m_ssl\u001b[0m\u001b[0;34m,\u001b[0m \u001b[0mbuf\u001b[0m\u001b[0;34m,\u001b[0m \u001b[0mnbytes\u001b[0m\u001b[0;34m)\u001b[0m\u001b[0;34m\u001b[0m\u001b[0;34m\u001b[0m\u001b[0m\n\u001b[0;32m-> 1822\u001b[0;31m         \u001b[0mself\u001b[0m\u001b[0;34m.\u001b[0m\u001b[0m_raise_ssl_error\u001b[0m\u001b[0;34m(\u001b[0m\u001b[0mself\u001b[0m\u001b[0;34m.\u001b[0m\u001b[0m_ssl\u001b[0m\u001b[0;34m,\u001b[0m \u001b[0mresult\u001b[0m\u001b[0;34m)\u001b[0m\u001b[0;34m\u001b[0m\u001b[0;34m\u001b[0m\u001b[0m\n\u001b[0m\u001b[1;32m   1823\u001b[0m \u001b[0;34m\u001b[0m\u001b[0m\n",
      "\u001b[0;32m/usr/lib/python3/dist-packages/OpenSSL/SSL.py\u001b[0m in \u001b[0;36m_raise_ssl_error\u001b[0;34m(self, ssl, result)\u001b[0m\n\u001b[1;32m   1621\u001b[0m         \u001b[0;32mif\u001b[0m \u001b[0merror\u001b[0m \u001b[0;34m==\u001b[0m \u001b[0m_lib\u001b[0m\u001b[0;34m.\u001b[0m\u001b[0mSSL_ERROR_WANT_READ\u001b[0m\u001b[0;34m:\u001b[0m\u001b[0;34m\u001b[0m\u001b[0;34m\u001b[0m\u001b[0m\n\u001b[0;32m-> 1622\u001b[0;31m             \u001b[0;32mraise\u001b[0m \u001b[0mWantReadError\u001b[0m\u001b[0;34m(\u001b[0m\u001b[0;34m)\u001b[0m\u001b[0;34m\u001b[0m\u001b[0;34m\u001b[0m\u001b[0m\n\u001b[0m\u001b[1;32m   1623\u001b[0m         \u001b[0;32melif\u001b[0m \u001b[0merror\u001b[0m \u001b[0;34m==\u001b[0m \u001b[0m_lib\u001b[0m\u001b[0;34m.\u001b[0m\u001b[0mSSL_ERROR_WANT_WRITE\u001b[0m\u001b[0;34m:\u001b[0m\u001b[0;34m\u001b[0m\u001b[0;34m\u001b[0m\u001b[0m\n",
      "\u001b[0;31mWantReadError\u001b[0m: ",
      "\nDuring handling of the above exception, another exception occurred:\n",
      "\u001b[0;31mKeyboardInterrupt\u001b[0m                         Traceback (most recent call last)",
      "\u001b[0;32m<ipython-input-11-eafc932375af>\u001b[0m in \u001b[0;36m<module>\u001b[0;34m\u001b[0m\n\u001b[1;32m     15\u001b[0m \"\"\".format(\",\".join(months))\n\u001b[1;32m     16\u001b[0m \u001b[0;34m\u001b[0m\u001b[0m\n\u001b[0;32m---> 17\u001b[0;31m \u001b[0mall_prs\u001b[0m\u001b[0;34m=\u001b[0m\u001b[0mgbq\u001b[0m\u001b[0;34m.\u001b[0m\u001b[0mread_gbq\u001b[0m\u001b[0;34m(\u001b[0m\u001b[0mstr\u001b[0m\u001b[0;34m(\u001b[0m\u001b[0mquery\u001b[0m\u001b[0;34m)\u001b[0m\u001b[0;34m,\u001b[0m \u001b[0mdialect\u001b[0m\u001b[0;34m=\u001b[0m\u001b[0;34m'standard'\u001b[0m\u001b[0;34m,\u001b[0m \u001b[0mproject_id\u001b[0m\u001b[0;34m=\u001b[0m\u001b[0mPROJECT\u001b[0m\u001b[0;34m)\u001b[0m\u001b[0;34m\u001b[0m\u001b[0;34m\u001b[0m\u001b[0m\n\u001b[0m",
      "\u001b[0;32m/usr/local/lib/python3.7/dist-packages/pandas/io/gbq.py\u001b[0m in \u001b[0;36mread_gbq\u001b[0;34m(query, project_id, index_col, col_order, reauth, auth_local_webserver, dialect, location, configuration, credentials, private_key, verbose)\u001b[0m\n\u001b[1;32m    147\u001b[0m         \u001b[0mauth_local_webserver\u001b[0m\u001b[0;34m=\u001b[0m\u001b[0mauth_local_webserver\u001b[0m\u001b[0;34m,\u001b[0m \u001b[0mdialect\u001b[0m\u001b[0;34m=\u001b[0m\u001b[0mdialect\u001b[0m\u001b[0;34m,\u001b[0m\u001b[0;34m\u001b[0m\u001b[0;34m\u001b[0m\u001b[0m\n\u001b[1;32m    148\u001b[0m         \u001b[0mlocation\u001b[0m\u001b[0;34m=\u001b[0m\u001b[0mlocation\u001b[0m\u001b[0;34m,\u001b[0m \u001b[0mconfiguration\u001b[0m\u001b[0;34m=\u001b[0m\u001b[0mconfiguration\u001b[0m\u001b[0;34m,\u001b[0m\u001b[0;34m\u001b[0m\u001b[0;34m\u001b[0m\u001b[0m\n\u001b[0;32m--> 149\u001b[0;31m         credentials=credentials, verbose=verbose, private_key=private_key)\n\u001b[0m\u001b[1;32m    150\u001b[0m \u001b[0;34m\u001b[0m\u001b[0m\n\u001b[1;32m    151\u001b[0m \u001b[0;34m\u001b[0m\u001b[0m\n",
      "\u001b[0;32m/usr/local/lib/python3.7/dist-packages/pandas_gbq/gbq.py\u001b[0m in \u001b[0;36mread_gbq\u001b[0;34m(query, project_id, index_col, col_order, reauth, auth_local_webserver, dialect, location, configuration, credentials, use_bqstorage_api, verbose, private_key)\u001b[0m\n\u001b[1;32m    970\u001b[0m     )\n\u001b[1;32m    971\u001b[0m \u001b[0;34m\u001b[0m\u001b[0m\n\u001b[0;32m--> 972\u001b[0;31m     \u001b[0mfinal_df\u001b[0m \u001b[0;34m=\u001b[0m \u001b[0mconnector\u001b[0m\u001b[0;34m.\u001b[0m\u001b[0mrun_query\u001b[0m\u001b[0;34m(\u001b[0m\u001b[0mquery\u001b[0m\u001b[0;34m,\u001b[0m \u001b[0mconfiguration\u001b[0m\u001b[0;34m=\u001b[0m\u001b[0mconfiguration\u001b[0m\u001b[0;34m)\u001b[0m\u001b[0;34m\u001b[0m\u001b[0;34m\u001b[0m\u001b[0m\n\u001b[0m\u001b[1;32m    973\u001b[0m \u001b[0;34m\u001b[0m\u001b[0m\n\u001b[1;32m    974\u001b[0m     \u001b[0;31m# Reindex the DataFrame on the provided column\u001b[0m\u001b[0;34m\u001b[0m\u001b[0;34m\u001b[0m\u001b[0;34m\u001b[0m\u001b[0m\n",
      "\u001b[0;32m/usr/local/lib/python3.7/dist-packages/pandas_gbq/gbq.py\u001b[0m in \u001b[0;36mrun_query\u001b[0;34m(self, query, **kwargs)\u001b[0m\n\u001b[1;32m    503\u001b[0m \u001b[0;34m\u001b[0m\u001b[0m\n\u001b[1;32m    504\u001b[0m             \u001b[0;32mtry\u001b[0m\u001b[0;34m:\u001b[0m\u001b[0;34m\u001b[0m\u001b[0;34m\u001b[0m\u001b[0m\n\u001b[0;32m--> 505\u001b[0;31m                 \u001b[0mquery_reply\u001b[0m\u001b[0;34m.\u001b[0m\u001b[0mresult\u001b[0m\u001b[0;34m(\u001b[0m\u001b[0mtimeout\u001b[0m\u001b[0;34m=\u001b[0m\u001b[0mtimeout_sec\u001b[0m\u001b[0;34m)\u001b[0m\u001b[0;34m\u001b[0m\u001b[0;34m\u001b[0m\u001b[0m\n\u001b[0m\u001b[1;32m    506\u001b[0m             \u001b[0;32mexcept\u001b[0m \u001b[0mTimeoutError\u001b[0m\u001b[0;34m:\u001b[0m\u001b[0;34m\u001b[0m\u001b[0;34m\u001b[0m\u001b[0m\n\u001b[1;32m    507\u001b[0m                 \u001b[0;31m# Use our own timeout logic\u001b[0m\u001b[0;34m\u001b[0m\u001b[0;34m\u001b[0m\u001b[0;34m\u001b[0m\u001b[0m\n",
      "\u001b[0;32m/usr/local/lib/python3.7/dist-packages/google/cloud/bigquery/job.py\u001b[0m in \u001b[0;36mresult\u001b[0;34m(self, timeout, page_size, retry)\u001b[0m\n\u001b[1;32m   2875\u001b[0m                 \u001b[0mIf\u001b[0m \u001b[0mthe\u001b[0m \u001b[0mjob\u001b[0m \u001b[0mdid\u001b[0m \u001b[0;32mnot\u001b[0m \u001b[0mcomplete\u001b[0m \u001b[0;32min\u001b[0m \u001b[0mthe\u001b[0m \u001b[0mgiven\u001b[0m \u001b[0mtimeout\u001b[0m\u001b[0;34m.\u001b[0m\u001b[0;34m\u001b[0m\u001b[0;34m\u001b[0m\u001b[0m\n\u001b[1;32m   2876\u001b[0m         \"\"\"\n\u001b[0;32m-> 2877\u001b[0;31m         \u001b[0msuper\u001b[0m\u001b[0;34m(\u001b[0m\u001b[0mQueryJob\u001b[0m\u001b[0;34m,\u001b[0m \u001b[0mself\u001b[0m\u001b[0;34m)\u001b[0m\u001b[0;34m.\u001b[0m\u001b[0mresult\u001b[0m\u001b[0;34m(\u001b[0m\u001b[0mtimeout\u001b[0m\u001b[0;34m=\u001b[0m\u001b[0mtimeout\u001b[0m\u001b[0;34m)\u001b[0m\u001b[0;34m\u001b[0m\u001b[0;34m\u001b[0m\u001b[0m\n\u001b[0m\u001b[1;32m   2878\u001b[0m         \u001b[0;31m# Return an iterator instead of returning the job.\u001b[0m\u001b[0;34m\u001b[0m\u001b[0;34m\u001b[0m\u001b[0;34m\u001b[0m\u001b[0m\n\u001b[1;32m   2879\u001b[0m         \u001b[0;32mif\u001b[0m \u001b[0;32mnot\u001b[0m \u001b[0mself\u001b[0m\u001b[0;34m.\u001b[0m\u001b[0m_query_results\u001b[0m\u001b[0;34m:\u001b[0m\u001b[0;34m\u001b[0m\u001b[0;34m\u001b[0m\u001b[0m\n",
      "\u001b[0;32m/usr/local/lib/python3.7/dist-packages/google/cloud/bigquery/job.py\u001b[0m in \u001b[0;36mresult\u001b[0;34m(self, timeout, retry)\u001b[0m\n\u001b[1;32m    731\u001b[0m             \u001b[0mself\u001b[0m\u001b[0;34m.\u001b[0m\u001b[0m_begin\u001b[0m\u001b[0;34m(\u001b[0m\u001b[0mretry\u001b[0m\u001b[0;34m=\u001b[0m\u001b[0mretry\u001b[0m\u001b[0;34m)\u001b[0m\u001b[0;34m\u001b[0m\u001b[0;34m\u001b[0m\u001b[0m\n\u001b[1;32m    732\u001b[0m         \u001b[0;31m# TODO: modify PollingFuture so it can pass a retry argument to done().\u001b[0m\u001b[0;34m\u001b[0m\u001b[0;34m\u001b[0m\u001b[0;34m\u001b[0m\u001b[0m\n\u001b[0;32m--> 733\u001b[0;31m         \u001b[0;32mreturn\u001b[0m \u001b[0msuper\u001b[0m\u001b[0;34m(\u001b[0m\u001b[0m_AsyncJob\u001b[0m\u001b[0;34m,\u001b[0m \u001b[0mself\u001b[0m\u001b[0;34m)\u001b[0m\u001b[0;34m.\u001b[0m\u001b[0mresult\u001b[0m\u001b[0;34m(\u001b[0m\u001b[0mtimeout\u001b[0m\u001b[0;34m=\u001b[0m\u001b[0mtimeout\u001b[0m\u001b[0;34m)\u001b[0m\u001b[0;34m\u001b[0m\u001b[0;34m\u001b[0m\u001b[0m\n\u001b[0m\u001b[1;32m    734\u001b[0m \u001b[0;34m\u001b[0m\u001b[0m\n\u001b[1;32m    735\u001b[0m     \u001b[0;32mdef\u001b[0m \u001b[0mcancelled\u001b[0m\u001b[0;34m(\u001b[0m\u001b[0mself\u001b[0m\u001b[0;34m)\u001b[0m\u001b[0;34m:\u001b[0m\u001b[0;34m\u001b[0m\u001b[0;34m\u001b[0m\u001b[0m\n",
      "\u001b[0;32m~/.local/lib/python3.7/site-packages/google/api_core/future/polling.py\u001b[0m in \u001b[0;36mresult\u001b[0;34m(self, timeout)\u001b[0m\n\u001b[1;32m    123\u001b[0m                 \u001b[0mthe\u001b[0m \u001b[0mtimeout\u001b[0m \u001b[0;32mis\u001b[0m \u001b[0mreached\u001b[0m \u001b[0mbefore\u001b[0m \u001b[0mthe\u001b[0m \u001b[0moperation\u001b[0m \u001b[0mcompletes\u001b[0m\u001b[0;34m.\u001b[0m\u001b[0;34m\u001b[0m\u001b[0;34m\u001b[0m\u001b[0m\n\u001b[1;32m    124\u001b[0m         \"\"\"\n\u001b[0;32m--> 125\u001b[0;31m         \u001b[0mself\u001b[0m\u001b[0;34m.\u001b[0m\u001b[0m_blocking_poll\u001b[0m\u001b[0;34m(\u001b[0m\u001b[0mtimeout\u001b[0m\u001b[0;34m=\u001b[0m\u001b[0mtimeout\u001b[0m\u001b[0;34m)\u001b[0m\u001b[0;34m\u001b[0m\u001b[0;34m\u001b[0m\u001b[0m\n\u001b[0m\u001b[1;32m    126\u001b[0m \u001b[0;34m\u001b[0m\u001b[0m\n\u001b[1;32m    127\u001b[0m         \u001b[0;32mif\u001b[0m \u001b[0mself\u001b[0m\u001b[0;34m.\u001b[0m\u001b[0m_exception\u001b[0m \u001b[0;32mis\u001b[0m \u001b[0;32mnot\u001b[0m \u001b[0;32mNone\u001b[0m\u001b[0;34m:\u001b[0m\u001b[0;34m\u001b[0m\u001b[0;34m\u001b[0m\u001b[0m\n",
      "\u001b[0;32m/usr/local/lib/python3.7/dist-packages/google/cloud/bigquery/job.py\u001b[0m in \u001b[0;36m_blocking_poll\u001b[0;34m(self, timeout)\u001b[0m\n\u001b[1;32m   2845\u001b[0m     \u001b[0;32mdef\u001b[0m \u001b[0m_blocking_poll\u001b[0m\u001b[0;34m(\u001b[0m\u001b[0mself\u001b[0m\u001b[0;34m,\u001b[0m \u001b[0mtimeout\u001b[0m\u001b[0;34m=\u001b[0m\u001b[0;32mNone\u001b[0m\u001b[0;34m)\u001b[0m\u001b[0;34m:\u001b[0m\u001b[0;34m\u001b[0m\u001b[0;34m\u001b[0m\u001b[0m\n\u001b[1;32m   2846\u001b[0m         \u001b[0mself\u001b[0m\u001b[0;34m.\u001b[0m\u001b[0m_done_timeout\u001b[0m \u001b[0;34m=\u001b[0m \u001b[0mtimeout\u001b[0m\u001b[0;34m\u001b[0m\u001b[0;34m\u001b[0m\u001b[0m\n\u001b[0;32m-> 2847\u001b[0;31m         \u001b[0msuper\u001b[0m\u001b[0;34m(\u001b[0m\u001b[0mQueryJob\u001b[0m\u001b[0;34m,\u001b[0m \u001b[0mself\u001b[0m\u001b[0;34m)\u001b[0m\u001b[0;34m.\u001b[0m\u001b[0m_blocking_poll\u001b[0m\u001b[0;34m(\u001b[0m\u001b[0mtimeout\u001b[0m\u001b[0;34m=\u001b[0m\u001b[0mtimeout\u001b[0m\u001b[0;34m)\u001b[0m\u001b[0;34m\u001b[0m\u001b[0;34m\u001b[0m\u001b[0m\n\u001b[0m\u001b[1;32m   2848\u001b[0m \u001b[0;34m\u001b[0m\u001b[0m\n\u001b[1;32m   2849\u001b[0m     \u001b[0;32mdef\u001b[0m \u001b[0mresult\u001b[0m\u001b[0;34m(\u001b[0m\u001b[0mself\u001b[0m\u001b[0;34m,\u001b[0m \u001b[0mtimeout\u001b[0m\u001b[0;34m=\u001b[0m\u001b[0;32mNone\u001b[0m\u001b[0;34m,\u001b[0m \u001b[0mpage_size\u001b[0m\u001b[0;34m=\u001b[0m\u001b[0;32mNone\u001b[0m\u001b[0;34m,\u001b[0m \u001b[0mretry\u001b[0m\u001b[0;34m=\u001b[0m\u001b[0mDEFAULT_RETRY\u001b[0m\u001b[0;34m)\u001b[0m\u001b[0;34m:\u001b[0m\u001b[0;34m\u001b[0m\u001b[0;34m\u001b[0m\u001b[0m\n",
      "\u001b[0;32m~/.local/lib/python3.7/site-packages/google/api_core/future/polling.py\u001b[0m in \u001b[0;36m_blocking_poll\u001b[0;34m(self, timeout)\u001b[0m\n\u001b[1;32m    102\u001b[0m \u001b[0;34m\u001b[0m\u001b[0m\n\u001b[1;32m    103\u001b[0m         \u001b[0;32mtry\u001b[0m\u001b[0;34m:\u001b[0m\u001b[0;34m\u001b[0m\u001b[0;34m\u001b[0m\u001b[0m\n\u001b[0;32m--> 104\u001b[0;31m             \u001b[0mretry_\u001b[0m\u001b[0;34m(\u001b[0m\u001b[0mself\u001b[0m\u001b[0;34m.\u001b[0m\u001b[0m_done_or_raise\u001b[0m\u001b[0;34m)\u001b[0m\u001b[0;34m(\u001b[0m\u001b[0;34m)\u001b[0m\u001b[0;34m\u001b[0m\u001b[0;34m\u001b[0m\u001b[0m\n\u001b[0m\u001b[1;32m    105\u001b[0m         \u001b[0;32mexcept\u001b[0m \u001b[0mexceptions\u001b[0m\u001b[0;34m.\u001b[0m\u001b[0mRetryError\u001b[0m\u001b[0;34m:\u001b[0m\u001b[0;34m\u001b[0m\u001b[0;34m\u001b[0m\u001b[0m\n\u001b[1;32m    106\u001b[0m             raise concurrent.futures.TimeoutError(\n",
      "\u001b[0;32m~/.local/lib/python3.7/site-packages/google/api_core/retry.py\u001b[0m in \u001b[0;36mretry_wrapped_func\u001b[0;34m(*args, **kwargs)\u001b[0m\n\u001b[1;32m    284\u001b[0m                 \u001b[0msleep_generator\u001b[0m\u001b[0;34m,\u001b[0m\u001b[0;34m\u001b[0m\u001b[0;34m\u001b[0m\u001b[0m\n\u001b[1;32m    285\u001b[0m                 \u001b[0mself\u001b[0m\u001b[0;34m.\u001b[0m\u001b[0m_deadline\u001b[0m\u001b[0;34m,\u001b[0m\u001b[0;34m\u001b[0m\u001b[0;34m\u001b[0m\u001b[0m\n\u001b[0;32m--> 286\u001b[0;31m                 \u001b[0mon_error\u001b[0m\u001b[0;34m=\u001b[0m\u001b[0mon_error\u001b[0m\u001b[0;34m,\u001b[0m\u001b[0;34m\u001b[0m\u001b[0;34m\u001b[0m\u001b[0m\n\u001b[0m\u001b[1;32m    287\u001b[0m             )\n\u001b[1;32m    288\u001b[0m \u001b[0;34m\u001b[0m\u001b[0m\n",
      "\u001b[0;32m~/.local/lib/python3.7/site-packages/google/api_core/retry.py\u001b[0m in \u001b[0;36mretry_target\u001b[0;34m(target, predicate, sleep_generator, deadline, on_error)\u001b[0m\n\u001b[1;32m    182\u001b[0m     \u001b[0;32mfor\u001b[0m \u001b[0msleep\u001b[0m \u001b[0;32min\u001b[0m \u001b[0msleep_generator\u001b[0m\u001b[0;34m:\u001b[0m\u001b[0;34m\u001b[0m\u001b[0;34m\u001b[0m\u001b[0m\n\u001b[1;32m    183\u001b[0m         \u001b[0;32mtry\u001b[0m\u001b[0;34m:\u001b[0m\u001b[0;34m\u001b[0m\u001b[0;34m\u001b[0m\u001b[0m\n\u001b[0;32m--> 184\u001b[0;31m             \u001b[0;32mreturn\u001b[0m \u001b[0mtarget\u001b[0m\u001b[0;34m(\u001b[0m\u001b[0;34m)\u001b[0m\u001b[0;34m\u001b[0m\u001b[0;34m\u001b[0m\u001b[0m\n\u001b[0m\u001b[1;32m    185\u001b[0m \u001b[0;34m\u001b[0m\u001b[0m\n\u001b[1;32m    186\u001b[0m         \u001b[0;31m# pylint: disable=broad-except\u001b[0m\u001b[0;34m\u001b[0m\u001b[0;34m\u001b[0m\u001b[0;34m\u001b[0m\u001b[0m\n",
      "\u001b[0;32m~/.local/lib/python3.7/site-packages/google/api_core/future/polling.py\u001b[0m in \u001b[0;36m_done_or_raise\u001b[0;34m(self)\u001b[0m\n\u001b[1;32m     81\u001b[0m     \u001b[0;32mdef\u001b[0m \u001b[0m_done_or_raise\u001b[0m\u001b[0;34m(\u001b[0m\u001b[0mself\u001b[0m\u001b[0;34m)\u001b[0m\u001b[0;34m:\u001b[0m\u001b[0;34m\u001b[0m\u001b[0;34m\u001b[0m\u001b[0m\n\u001b[1;32m     82\u001b[0m         \u001b[0;34m\"\"\"Check if the future is done and raise if it's not.\"\"\"\u001b[0m\u001b[0;34m\u001b[0m\u001b[0;34m\u001b[0m\u001b[0m\n\u001b[0;32m---> 83\u001b[0;31m         \u001b[0;32mif\u001b[0m \u001b[0;32mnot\u001b[0m \u001b[0mself\u001b[0m\u001b[0;34m.\u001b[0m\u001b[0mdone\u001b[0m\u001b[0;34m(\u001b[0m\u001b[0;34m)\u001b[0m\u001b[0;34m:\u001b[0m\u001b[0;34m\u001b[0m\u001b[0;34m\u001b[0m\u001b[0m\n\u001b[0m\u001b[1;32m     84\u001b[0m             \u001b[0;32mraise\u001b[0m \u001b[0m_OperationNotComplete\u001b[0m\u001b[0;34m(\u001b[0m\u001b[0;34m)\u001b[0m\u001b[0;34m\u001b[0m\u001b[0;34m\u001b[0m\u001b[0m\n\u001b[1;32m     85\u001b[0m \u001b[0;34m\u001b[0m\u001b[0m\n",
      "\u001b[0;32m/usr/local/lib/python3.7/dist-packages/google/cloud/bigquery/job.py\u001b[0m in \u001b[0;36mdone\u001b[0;34m(self, retry)\u001b[0m\n\u001b[1;32m   2832\u001b[0m                 \u001b[0mproject\u001b[0m\u001b[0;34m=\u001b[0m\u001b[0mself\u001b[0m\u001b[0;34m.\u001b[0m\u001b[0mproject\u001b[0m\u001b[0;34m,\u001b[0m\u001b[0;34m\u001b[0m\u001b[0;34m\u001b[0m\u001b[0m\n\u001b[1;32m   2833\u001b[0m                 \u001b[0mtimeout_ms\u001b[0m\u001b[0;34m=\u001b[0m\u001b[0mtimeout_ms\u001b[0m\u001b[0;34m,\u001b[0m\u001b[0;34m\u001b[0m\u001b[0;34m\u001b[0m\u001b[0m\n\u001b[0;32m-> 2834\u001b[0;31m                 \u001b[0mlocation\u001b[0m\u001b[0;34m=\u001b[0m\u001b[0mself\u001b[0m\u001b[0;34m.\u001b[0m\u001b[0mlocation\u001b[0m\u001b[0;34m,\u001b[0m\u001b[0;34m\u001b[0m\u001b[0;34m\u001b[0m\u001b[0m\n\u001b[0m\u001b[1;32m   2835\u001b[0m             )\n\u001b[1;32m   2836\u001b[0m \u001b[0;34m\u001b[0m\u001b[0m\n",
      "\u001b[0;32m/usr/local/lib/python3.7/dist-packages/google/cloud/bigquery/client.py\u001b[0m in \u001b[0;36m_get_query_results\u001b[0;34m(self, job_id, retry, project, timeout_ms, location)\u001b[0m\n\u001b[1;32m   1080\u001b[0m         \u001b[0;31m# QueryJob.result()). So we don't need to poll here.\u001b[0m\u001b[0;34m\u001b[0m\u001b[0;34m\u001b[0m\u001b[0;34m\u001b[0m\u001b[0m\n\u001b[1;32m   1081\u001b[0m         resource = self._call_api(\n\u001b[0;32m-> 1082\u001b[0;31m             \u001b[0mretry\u001b[0m\u001b[0;34m,\u001b[0m \u001b[0mmethod\u001b[0m\u001b[0;34m=\u001b[0m\u001b[0;34m\"GET\"\u001b[0m\u001b[0;34m,\u001b[0m \u001b[0mpath\u001b[0m\u001b[0;34m=\u001b[0m\u001b[0mpath\u001b[0m\u001b[0;34m,\u001b[0m \u001b[0mquery_params\u001b[0m\u001b[0;34m=\u001b[0m\u001b[0mextra_params\u001b[0m\u001b[0;34m\u001b[0m\u001b[0;34m\u001b[0m\u001b[0m\n\u001b[0m\u001b[1;32m   1083\u001b[0m         )\n\u001b[1;32m   1084\u001b[0m         \u001b[0;32mreturn\u001b[0m \u001b[0m_QueryResults\u001b[0m\u001b[0;34m.\u001b[0m\u001b[0mfrom_api_repr\u001b[0m\u001b[0;34m(\u001b[0m\u001b[0mresource\u001b[0m\u001b[0;34m)\u001b[0m\u001b[0;34m\u001b[0m\u001b[0;34m\u001b[0m\u001b[0m\n",
      "\u001b[0;32m/usr/local/lib/python3.7/dist-packages/google/cloud/bigquery/client.py\u001b[0m in \u001b[0;36m_call_api\u001b[0;34m(self, retry, **kwargs)\u001b[0m\n\u001b[1;32m    454\u001b[0m         \u001b[0;32mif\u001b[0m \u001b[0mretry\u001b[0m\u001b[0;34m:\u001b[0m\u001b[0;34m\u001b[0m\u001b[0;34m\u001b[0m\u001b[0m\n\u001b[1;32m    455\u001b[0m             \u001b[0mcall\u001b[0m \u001b[0;34m=\u001b[0m \u001b[0mretry\u001b[0m\u001b[0;34m(\u001b[0m\u001b[0mcall\u001b[0m\u001b[0;34m)\u001b[0m\u001b[0;34m\u001b[0m\u001b[0;34m\u001b[0m\u001b[0m\n\u001b[0;32m--> 456\u001b[0;31m         \u001b[0;32mreturn\u001b[0m \u001b[0mcall\u001b[0m\u001b[0;34m(\u001b[0m\u001b[0;34m)\u001b[0m\u001b[0;34m\u001b[0m\u001b[0;34m\u001b[0m\u001b[0m\n\u001b[0m\u001b[1;32m    457\u001b[0m \u001b[0;34m\u001b[0m\u001b[0m\n\u001b[1;32m    458\u001b[0m     \u001b[0;32mdef\u001b[0m \u001b[0mget_dataset\u001b[0m\u001b[0;34m(\u001b[0m\u001b[0mself\u001b[0m\u001b[0;34m,\u001b[0m \u001b[0mdataset_ref\u001b[0m\u001b[0;34m,\u001b[0m \u001b[0mretry\u001b[0m\u001b[0;34m=\u001b[0m\u001b[0mDEFAULT_RETRY\u001b[0m\u001b[0;34m)\u001b[0m\u001b[0;34m:\u001b[0m\u001b[0;34m\u001b[0m\u001b[0;34m\u001b[0m\u001b[0m\n",
      "\u001b[0;32m~/.local/lib/python3.7/site-packages/google/api_core/retry.py\u001b[0m in \u001b[0;36mretry_wrapped_func\u001b[0;34m(*args, **kwargs)\u001b[0m\n\u001b[1;32m    284\u001b[0m                 \u001b[0msleep_generator\u001b[0m\u001b[0;34m,\u001b[0m\u001b[0;34m\u001b[0m\u001b[0;34m\u001b[0m\u001b[0m\n\u001b[1;32m    285\u001b[0m                 \u001b[0mself\u001b[0m\u001b[0;34m.\u001b[0m\u001b[0m_deadline\u001b[0m\u001b[0;34m,\u001b[0m\u001b[0;34m\u001b[0m\u001b[0;34m\u001b[0m\u001b[0m\n\u001b[0;32m--> 286\u001b[0;31m                 \u001b[0mon_error\u001b[0m\u001b[0;34m=\u001b[0m\u001b[0mon_error\u001b[0m\u001b[0;34m,\u001b[0m\u001b[0;34m\u001b[0m\u001b[0;34m\u001b[0m\u001b[0m\n\u001b[0m\u001b[1;32m    287\u001b[0m             )\n\u001b[1;32m    288\u001b[0m \u001b[0;34m\u001b[0m\u001b[0m\n",
      "\u001b[0;32m~/.local/lib/python3.7/site-packages/google/api_core/retry.py\u001b[0m in \u001b[0;36mretry_target\u001b[0;34m(target, predicate, sleep_generator, deadline, on_error)\u001b[0m\n\u001b[1;32m    182\u001b[0m     \u001b[0;32mfor\u001b[0m \u001b[0msleep\u001b[0m \u001b[0;32min\u001b[0m \u001b[0msleep_generator\u001b[0m\u001b[0;34m:\u001b[0m\u001b[0;34m\u001b[0m\u001b[0;34m\u001b[0m\u001b[0m\n\u001b[1;32m    183\u001b[0m         \u001b[0;32mtry\u001b[0m\u001b[0;34m:\u001b[0m\u001b[0;34m\u001b[0m\u001b[0;34m\u001b[0m\u001b[0m\n\u001b[0;32m--> 184\u001b[0;31m             \u001b[0;32mreturn\u001b[0m \u001b[0mtarget\u001b[0m\u001b[0;34m(\u001b[0m\u001b[0;34m)\u001b[0m\u001b[0;34m\u001b[0m\u001b[0;34m\u001b[0m\u001b[0m\n\u001b[0m\u001b[1;32m    185\u001b[0m \u001b[0;34m\u001b[0m\u001b[0m\n\u001b[1;32m    186\u001b[0m         \u001b[0;31m# pylint: disable=broad-except\u001b[0m\u001b[0;34m\u001b[0m\u001b[0;34m\u001b[0m\u001b[0;34m\u001b[0m\u001b[0m\n",
      "\u001b[0;32m/usr/local/lib/python3.7/dist-packages/google/cloud/_http.py\u001b[0m in \u001b[0;36mapi_request\u001b[0;34m(self, method, path, query_params, data, content_type, headers, api_base_url, api_version, expect_json, _target_object)\u001b[0m\n\u001b[1;32m    387\u001b[0m             \u001b[0mcontent_type\u001b[0m\u001b[0;34m=\u001b[0m\u001b[0mcontent_type\u001b[0m\u001b[0;34m,\u001b[0m\u001b[0;34m\u001b[0m\u001b[0;34m\u001b[0m\u001b[0m\n\u001b[1;32m    388\u001b[0m             \u001b[0mheaders\u001b[0m\u001b[0;34m=\u001b[0m\u001b[0mheaders\u001b[0m\u001b[0;34m,\u001b[0m\u001b[0;34m\u001b[0m\u001b[0;34m\u001b[0m\u001b[0m\n\u001b[0;32m--> 389\u001b[0;31m             \u001b[0mtarget_object\u001b[0m\u001b[0;34m=\u001b[0m\u001b[0m_target_object\u001b[0m\u001b[0;34m,\u001b[0m\u001b[0;34m\u001b[0m\u001b[0;34m\u001b[0m\u001b[0m\n\u001b[0m\u001b[1;32m    390\u001b[0m         )\n\u001b[1;32m    391\u001b[0m \u001b[0;34m\u001b[0m\u001b[0m\n",
      "\u001b[0;32m/usr/local/lib/python3.7/dist-packages/google/cloud/_http.py\u001b[0m in \u001b[0;36m_make_request\u001b[0;34m(self, method, url, data, content_type, headers, target_object)\u001b[0m\n\u001b[1;32m    264\u001b[0m         \u001b[0mheaders\u001b[0m\u001b[0;34m[\u001b[0m\u001b[0;34m\"User-Agent\"\u001b[0m\u001b[0;34m]\u001b[0m \u001b[0;34m=\u001b[0m \u001b[0mself\u001b[0m\u001b[0;34m.\u001b[0m\u001b[0muser_agent\u001b[0m\u001b[0;34m\u001b[0m\u001b[0;34m\u001b[0m\u001b[0m\n\u001b[1;32m    265\u001b[0m \u001b[0;34m\u001b[0m\u001b[0m\n\u001b[0;32m--> 266\u001b[0;31m         \u001b[0;32mreturn\u001b[0m \u001b[0mself\u001b[0m\u001b[0;34m.\u001b[0m\u001b[0m_do_request\u001b[0m\u001b[0;34m(\u001b[0m\u001b[0mmethod\u001b[0m\u001b[0;34m,\u001b[0m \u001b[0murl\u001b[0m\u001b[0;34m,\u001b[0m \u001b[0mheaders\u001b[0m\u001b[0;34m,\u001b[0m \u001b[0mdata\u001b[0m\u001b[0;34m,\u001b[0m \u001b[0mtarget_object\u001b[0m\u001b[0;34m)\u001b[0m\u001b[0;34m\u001b[0m\u001b[0;34m\u001b[0m\u001b[0m\n\u001b[0m\u001b[1;32m    267\u001b[0m \u001b[0;34m\u001b[0m\u001b[0m\n\u001b[1;32m    268\u001b[0m     def _do_request(\n",
      "\u001b[0;32m/usr/local/lib/python3.7/dist-packages/google/cloud/_http.py\u001b[0m in \u001b[0;36m_do_request\u001b[0;34m(self, method, url, headers, data, target_object)\u001b[0m\n\u001b[1;32m    293\u001b[0m         \u001b[0;34m:\u001b[0m\u001b[0mreturns\u001b[0m\u001b[0;34m:\u001b[0m \u001b[0mThe\u001b[0m \u001b[0mHTTP\u001b[0m \u001b[0mresponse\u001b[0m\u001b[0;34m.\u001b[0m\u001b[0;34m\u001b[0m\u001b[0;34m\u001b[0m\u001b[0m\n\u001b[1;32m    294\u001b[0m         \"\"\"\n\u001b[0;32m--> 295\u001b[0;31m         \u001b[0;32mreturn\u001b[0m \u001b[0mself\u001b[0m\u001b[0;34m.\u001b[0m\u001b[0mhttp\u001b[0m\u001b[0;34m.\u001b[0m\u001b[0mrequest\u001b[0m\u001b[0;34m(\u001b[0m\u001b[0murl\u001b[0m\u001b[0;34m=\u001b[0m\u001b[0murl\u001b[0m\u001b[0;34m,\u001b[0m \u001b[0mmethod\u001b[0m\u001b[0;34m=\u001b[0m\u001b[0mmethod\u001b[0m\u001b[0;34m,\u001b[0m \u001b[0mheaders\u001b[0m\u001b[0;34m=\u001b[0m\u001b[0mheaders\u001b[0m\u001b[0;34m,\u001b[0m \u001b[0mdata\u001b[0m\u001b[0;34m=\u001b[0m\u001b[0mdata\u001b[0m\u001b[0;34m)\u001b[0m\u001b[0;34m\u001b[0m\u001b[0;34m\u001b[0m\u001b[0m\n\u001b[0m\u001b[1;32m    296\u001b[0m \u001b[0;34m\u001b[0m\u001b[0m\n\u001b[1;32m    297\u001b[0m     def api_request(\n",
      "\u001b[0;32m~/.local/lib/python3.7/site-packages/google/auth/transport/requests.py\u001b[0m in \u001b[0;36mrequest\u001b[0;34m(self, method, url, data, headers, max_allowed_time, timeout, **kwargs)\u001b[0m\n\u001b[1;32m    448\u001b[0m                 \u001b[0mheaders\u001b[0m\u001b[0;34m=\u001b[0m\u001b[0mrequest_headers\u001b[0m\u001b[0;34m,\u001b[0m\u001b[0;34m\u001b[0m\u001b[0;34m\u001b[0m\u001b[0m\n\u001b[1;32m    449\u001b[0m                 \u001b[0mtimeout\u001b[0m\u001b[0;34m=\u001b[0m\u001b[0mtimeout\u001b[0m\u001b[0;34m,\u001b[0m\u001b[0;34m\u001b[0m\u001b[0;34m\u001b[0m\u001b[0m\n\u001b[0;32m--> 450\u001b[0;31m                 \u001b[0;34m**\u001b[0m\u001b[0mkwargs\u001b[0m\u001b[0;34m\u001b[0m\u001b[0;34m\u001b[0m\u001b[0m\n\u001b[0m\u001b[1;32m    451\u001b[0m             )\n\u001b[1;32m    452\u001b[0m         \u001b[0mremaining_time\u001b[0m \u001b[0;34m=\u001b[0m \u001b[0mguard\u001b[0m\u001b[0;34m.\u001b[0m\u001b[0mremaining_timeout\u001b[0m\u001b[0;34m\u001b[0m\u001b[0;34m\u001b[0m\u001b[0m\n",
      "\u001b[0;32m/usr/local/lib/python3.7/dist-packages/requests/sessions.py\u001b[0m in \u001b[0;36mrequest\u001b[0;34m(self, method, url, params, data, headers, cookies, files, auth, timeout, allow_redirects, proxies, hooks, stream, verify, cert, json)\u001b[0m\n\u001b[1;32m    531\u001b[0m         }\n\u001b[1;32m    532\u001b[0m         \u001b[0msend_kwargs\u001b[0m\u001b[0;34m.\u001b[0m\u001b[0mupdate\u001b[0m\u001b[0;34m(\u001b[0m\u001b[0msettings\u001b[0m\u001b[0;34m)\u001b[0m\u001b[0;34m\u001b[0m\u001b[0;34m\u001b[0m\u001b[0m\n\u001b[0;32m--> 533\u001b[0;31m         \u001b[0mresp\u001b[0m \u001b[0;34m=\u001b[0m \u001b[0mself\u001b[0m\u001b[0;34m.\u001b[0m\u001b[0msend\u001b[0m\u001b[0;34m(\u001b[0m\u001b[0mprep\u001b[0m\u001b[0;34m,\u001b[0m \u001b[0;34m**\u001b[0m\u001b[0msend_kwargs\u001b[0m\u001b[0;34m)\u001b[0m\u001b[0;34m\u001b[0m\u001b[0;34m\u001b[0m\u001b[0m\n\u001b[0m\u001b[1;32m    534\u001b[0m \u001b[0;34m\u001b[0m\u001b[0m\n\u001b[1;32m    535\u001b[0m         \u001b[0;32mreturn\u001b[0m \u001b[0mresp\u001b[0m\u001b[0;34m\u001b[0m\u001b[0;34m\u001b[0m\u001b[0m\n",
      "\u001b[0;32m/usr/local/lib/python3.7/dist-packages/requests/sessions.py\u001b[0m in \u001b[0;36msend\u001b[0;34m(self, request, **kwargs)\u001b[0m\n\u001b[1;32m    644\u001b[0m \u001b[0;34m\u001b[0m\u001b[0m\n\u001b[1;32m    645\u001b[0m         \u001b[0;31m# Send the request\u001b[0m\u001b[0;34m\u001b[0m\u001b[0;34m\u001b[0m\u001b[0;34m\u001b[0m\u001b[0m\n\u001b[0;32m--> 646\u001b[0;31m         \u001b[0mr\u001b[0m \u001b[0;34m=\u001b[0m \u001b[0madapter\u001b[0m\u001b[0;34m.\u001b[0m\u001b[0msend\u001b[0m\u001b[0;34m(\u001b[0m\u001b[0mrequest\u001b[0m\u001b[0;34m,\u001b[0m \u001b[0;34m**\u001b[0m\u001b[0mkwargs\u001b[0m\u001b[0;34m)\u001b[0m\u001b[0;34m\u001b[0m\u001b[0;34m\u001b[0m\u001b[0m\n\u001b[0m\u001b[1;32m    647\u001b[0m \u001b[0;34m\u001b[0m\u001b[0m\n\u001b[1;32m    648\u001b[0m         \u001b[0;31m# Total elapsed time of the request (approximately)\u001b[0m\u001b[0;34m\u001b[0m\u001b[0;34m\u001b[0m\u001b[0;34m\u001b[0m\u001b[0m\n",
      "\u001b[0;32m/usr/local/lib/python3.7/dist-packages/requests/adapters.py\u001b[0m in \u001b[0;36msend\u001b[0;34m(self, request, stream, timeout, verify, cert, proxies)\u001b[0m\n\u001b[1;32m    447\u001b[0m                     \u001b[0mdecode_content\u001b[0m\u001b[0;34m=\u001b[0m\u001b[0;32mFalse\u001b[0m\u001b[0;34m,\u001b[0m\u001b[0;34m\u001b[0m\u001b[0;34m\u001b[0m\u001b[0m\n\u001b[1;32m    448\u001b[0m                     \u001b[0mretries\u001b[0m\u001b[0;34m=\u001b[0m\u001b[0mself\u001b[0m\u001b[0;34m.\u001b[0m\u001b[0mmax_retries\u001b[0m\u001b[0;34m,\u001b[0m\u001b[0;34m\u001b[0m\u001b[0;34m\u001b[0m\u001b[0m\n\u001b[0;32m--> 449\u001b[0;31m                     \u001b[0mtimeout\u001b[0m\u001b[0;34m=\u001b[0m\u001b[0mtimeout\u001b[0m\u001b[0;34m\u001b[0m\u001b[0;34m\u001b[0m\u001b[0m\n\u001b[0m\u001b[1;32m    450\u001b[0m                 )\n\u001b[1;32m    451\u001b[0m \u001b[0;34m\u001b[0m\u001b[0m\n",
      "\u001b[0;32m/usr/local/lib/python3.7/dist-packages/urllib3/connectionpool.py\u001b[0m in \u001b[0;36murlopen\u001b[0;34m(self, method, url, body, headers, retries, redirect, assert_same_host, timeout, pool_timeout, release_conn, chunked, body_pos, **response_kw)\u001b[0m\n\u001b[1;32m    601\u001b[0m                                                   \u001b[0mtimeout\u001b[0m\u001b[0;34m=\u001b[0m\u001b[0mtimeout_obj\u001b[0m\u001b[0;34m,\u001b[0m\u001b[0;34m\u001b[0m\u001b[0;34m\u001b[0m\u001b[0m\n\u001b[1;32m    602\u001b[0m                                                   \u001b[0mbody\u001b[0m\u001b[0;34m=\u001b[0m\u001b[0mbody\u001b[0m\u001b[0;34m,\u001b[0m \u001b[0mheaders\u001b[0m\u001b[0;34m=\u001b[0m\u001b[0mheaders\u001b[0m\u001b[0;34m,\u001b[0m\u001b[0;34m\u001b[0m\u001b[0;34m\u001b[0m\u001b[0m\n\u001b[0;32m--> 603\u001b[0;31m                                                   chunked=chunked)\n\u001b[0m\u001b[1;32m    604\u001b[0m \u001b[0;34m\u001b[0m\u001b[0m\n\u001b[1;32m    605\u001b[0m             \u001b[0;31m# If we're going to release the connection in ``finally:``, then\u001b[0m\u001b[0;34m\u001b[0m\u001b[0;34m\u001b[0m\u001b[0;34m\u001b[0m\u001b[0m\n",
      "\u001b[0;32m/usr/local/lib/python3.7/dist-packages/urllib3/connectionpool.py\u001b[0m in \u001b[0;36m_make_request\u001b[0;34m(self, conn, method, url, timeout, chunked, **httplib_request_kw)\u001b[0m\n\u001b[1;32m    381\u001b[0m                 \u001b[0;31m# Python 3\u001b[0m\u001b[0;34m\u001b[0m\u001b[0;34m\u001b[0m\u001b[0;34m\u001b[0m\u001b[0m\n\u001b[1;32m    382\u001b[0m                 \u001b[0;32mtry\u001b[0m\u001b[0;34m:\u001b[0m\u001b[0;34m\u001b[0m\u001b[0;34m\u001b[0m\u001b[0m\n\u001b[0;32m--> 383\u001b[0;31m                     \u001b[0mhttplib_response\u001b[0m \u001b[0;34m=\u001b[0m \u001b[0mconn\u001b[0m\u001b[0;34m.\u001b[0m\u001b[0mgetresponse\u001b[0m\u001b[0;34m(\u001b[0m\u001b[0;34m)\u001b[0m\u001b[0;34m\u001b[0m\u001b[0;34m\u001b[0m\u001b[0m\n\u001b[0m\u001b[1;32m    384\u001b[0m                 \u001b[0;32mexcept\u001b[0m \u001b[0mException\u001b[0m \u001b[0;32mas\u001b[0m \u001b[0me\u001b[0m\u001b[0;34m:\u001b[0m\u001b[0;34m\u001b[0m\u001b[0;34m\u001b[0m\u001b[0m\n\u001b[1;32m    385\u001b[0m                     \u001b[0;31m# Remove the TypeError from the exception chain in Python 3;\u001b[0m\u001b[0;34m\u001b[0m\u001b[0;34m\u001b[0m\u001b[0;34m\u001b[0m\u001b[0m\n",
      "\u001b[0;32m/usr/lib/python3.7/http/client.py\u001b[0m in \u001b[0;36mgetresponse\u001b[0;34m(self)\u001b[0m\n\u001b[1;32m   1342\u001b[0m         \u001b[0;32mtry\u001b[0m\u001b[0;34m:\u001b[0m\u001b[0;34m\u001b[0m\u001b[0;34m\u001b[0m\u001b[0m\n\u001b[1;32m   1343\u001b[0m             \u001b[0;32mtry\u001b[0m\u001b[0;34m:\u001b[0m\u001b[0;34m\u001b[0m\u001b[0;34m\u001b[0m\u001b[0m\n\u001b[0;32m-> 1344\u001b[0;31m                 \u001b[0mresponse\u001b[0m\u001b[0;34m.\u001b[0m\u001b[0mbegin\u001b[0m\u001b[0;34m(\u001b[0m\u001b[0;34m)\u001b[0m\u001b[0;34m\u001b[0m\u001b[0;34m\u001b[0m\u001b[0m\n\u001b[0m\u001b[1;32m   1345\u001b[0m             \u001b[0;32mexcept\u001b[0m \u001b[0mConnectionError\u001b[0m\u001b[0;34m:\u001b[0m\u001b[0;34m\u001b[0m\u001b[0;34m\u001b[0m\u001b[0m\n\u001b[1;32m   1346\u001b[0m                 \u001b[0mself\u001b[0m\u001b[0;34m.\u001b[0m\u001b[0mclose\u001b[0m\u001b[0;34m(\u001b[0m\u001b[0;34m)\u001b[0m\u001b[0;34m\u001b[0m\u001b[0;34m\u001b[0m\u001b[0m\n",
      "\u001b[0;32m/usr/lib/python3.7/http/client.py\u001b[0m in \u001b[0;36mbegin\u001b[0;34m(self)\u001b[0m\n\u001b[1;32m    304\u001b[0m         \u001b[0;31m# read until we get a non-100 response\u001b[0m\u001b[0;34m\u001b[0m\u001b[0;34m\u001b[0m\u001b[0;34m\u001b[0m\u001b[0m\n\u001b[1;32m    305\u001b[0m         \u001b[0;32mwhile\u001b[0m \u001b[0;32mTrue\u001b[0m\u001b[0;34m:\u001b[0m\u001b[0;34m\u001b[0m\u001b[0;34m\u001b[0m\u001b[0m\n\u001b[0;32m--> 306\u001b[0;31m             \u001b[0mversion\u001b[0m\u001b[0;34m,\u001b[0m \u001b[0mstatus\u001b[0m\u001b[0;34m,\u001b[0m \u001b[0mreason\u001b[0m \u001b[0;34m=\u001b[0m \u001b[0mself\u001b[0m\u001b[0;34m.\u001b[0m\u001b[0m_read_status\u001b[0m\u001b[0;34m(\u001b[0m\u001b[0;34m)\u001b[0m\u001b[0;34m\u001b[0m\u001b[0;34m\u001b[0m\u001b[0m\n\u001b[0m\u001b[1;32m    307\u001b[0m             \u001b[0;32mif\u001b[0m \u001b[0mstatus\u001b[0m \u001b[0;34m!=\u001b[0m \u001b[0mCONTINUE\u001b[0m\u001b[0;34m:\u001b[0m\u001b[0;34m\u001b[0m\u001b[0;34m\u001b[0m\u001b[0m\n\u001b[1;32m    308\u001b[0m                 \u001b[0;32mbreak\u001b[0m\u001b[0;34m\u001b[0m\u001b[0;34m\u001b[0m\u001b[0m\n",
      "\u001b[0;32m/usr/lib/python3.7/http/client.py\u001b[0m in \u001b[0;36m_read_status\u001b[0;34m(self)\u001b[0m\n\u001b[1;32m    265\u001b[0m \u001b[0;34m\u001b[0m\u001b[0m\n\u001b[1;32m    266\u001b[0m     \u001b[0;32mdef\u001b[0m \u001b[0m_read_status\u001b[0m\u001b[0;34m(\u001b[0m\u001b[0mself\u001b[0m\u001b[0;34m)\u001b[0m\u001b[0;34m:\u001b[0m\u001b[0;34m\u001b[0m\u001b[0;34m\u001b[0m\u001b[0m\n\u001b[0;32m--> 267\u001b[0;31m         \u001b[0mline\u001b[0m \u001b[0;34m=\u001b[0m \u001b[0mstr\u001b[0m\u001b[0;34m(\u001b[0m\u001b[0mself\u001b[0m\u001b[0;34m.\u001b[0m\u001b[0mfp\u001b[0m\u001b[0;34m.\u001b[0m\u001b[0mreadline\u001b[0m\u001b[0;34m(\u001b[0m\u001b[0m_MAXLINE\u001b[0m \u001b[0;34m+\u001b[0m \u001b[0;36m1\u001b[0m\u001b[0;34m)\u001b[0m\u001b[0;34m,\u001b[0m \u001b[0;34m\"iso-8859-1\"\u001b[0m\u001b[0;34m)\u001b[0m\u001b[0;34m\u001b[0m\u001b[0;34m\u001b[0m\u001b[0m\n\u001b[0m\u001b[1;32m    268\u001b[0m         \u001b[0;32mif\u001b[0m \u001b[0mlen\u001b[0m\u001b[0;34m(\u001b[0m\u001b[0mline\u001b[0m\u001b[0;34m)\u001b[0m \u001b[0;34m>\u001b[0m \u001b[0m_MAXLINE\u001b[0m\u001b[0;34m:\u001b[0m\u001b[0;34m\u001b[0m\u001b[0;34m\u001b[0m\u001b[0m\n\u001b[1;32m    269\u001b[0m             \u001b[0;32mraise\u001b[0m \u001b[0mLineTooLong\u001b[0m\u001b[0;34m(\u001b[0m\u001b[0;34m\"status line\"\u001b[0m\u001b[0;34m)\u001b[0m\u001b[0;34m\u001b[0m\u001b[0;34m\u001b[0m\u001b[0m\n",
      "\u001b[0;32m/usr/lib/python3.7/socket.py\u001b[0m in \u001b[0;36mreadinto\u001b[0;34m(self, b)\u001b[0m\n\u001b[1;32m    587\u001b[0m         \u001b[0;32mwhile\u001b[0m \u001b[0;32mTrue\u001b[0m\u001b[0;34m:\u001b[0m\u001b[0;34m\u001b[0m\u001b[0;34m\u001b[0m\u001b[0m\n\u001b[1;32m    588\u001b[0m             \u001b[0;32mtry\u001b[0m\u001b[0;34m:\u001b[0m\u001b[0;34m\u001b[0m\u001b[0;34m\u001b[0m\u001b[0m\n\u001b[0;32m--> 589\u001b[0;31m                 \u001b[0;32mreturn\u001b[0m \u001b[0mself\u001b[0m\u001b[0;34m.\u001b[0m\u001b[0m_sock\u001b[0m\u001b[0;34m.\u001b[0m\u001b[0mrecv_into\u001b[0m\u001b[0;34m(\u001b[0m\u001b[0mb\u001b[0m\u001b[0;34m)\u001b[0m\u001b[0;34m\u001b[0m\u001b[0;34m\u001b[0m\u001b[0m\n\u001b[0m\u001b[1;32m    590\u001b[0m             \u001b[0;32mexcept\u001b[0m \u001b[0mtimeout\u001b[0m\u001b[0;34m:\u001b[0m\u001b[0;34m\u001b[0m\u001b[0;34m\u001b[0m\u001b[0m\n\u001b[1;32m    591\u001b[0m                 \u001b[0mself\u001b[0m\u001b[0;34m.\u001b[0m\u001b[0m_timeout_occurred\u001b[0m \u001b[0;34m=\u001b[0m \u001b[0;32mTrue\u001b[0m\u001b[0;34m\u001b[0m\u001b[0;34m\u001b[0m\u001b[0m\n",
      "\u001b[0;32m/usr/local/lib/python3.7/dist-packages/urllib3/contrib/pyopenssl.py\u001b[0m in \u001b[0;36mrecv_into\u001b[0;34m(self, *args, **kwargs)\u001b[0m\n\u001b[1;32m    314\u001b[0m                 \u001b[0;32mraise\u001b[0m\u001b[0;34m\u001b[0m\u001b[0;34m\u001b[0m\u001b[0m\n\u001b[1;32m    315\u001b[0m         \u001b[0;32mexcept\u001b[0m \u001b[0mOpenSSL\u001b[0m\u001b[0;34m.\u001b[0m\u001b[0mSSL\u001b[0m\u001b[0;34m.\u001b[0m\u001b[0mWantReadError\u001b[0m\u001b[0;34m:\u001b[0m\u001b[0;34m\u001b[0m\u001b[0;34m\u001b[0m\u001b[0m\n\u001b[0;32m--> 316\u001b[0;31m             \u001b[0;32mif\u001b[0m \u001b[0;32mnot\u001b[0m \u001b[0mutil\u001b[0m\u001b[0;34m.\u001b[0m\u001b[0mwait_for_read\u001b[0m\u001b[0;34m(\u001b[0m\u001b[0mself\u001b[0m\u001b[0;34m.\u001b[0m\u001b[0msocket\u001b[0m\u001b[0;34m,\u001b[0m \u001b[0mself\u001b[0m\u001b[0;34m.\u001b[0m\u001b[0msocket\u001b[0m\u001b[0;34m.\u001b[0m\u001b[0mgettimeout\u001b[0m\u001b[0;34m(\u001b[0m\u001b[0;34m)\u001b[0m\u001b[0;34m)\u001b[0m\u001b[0;34m:\u001b[0m\u001b[0;34m\u001b[0m\u001b[0;34m\u001b[0m\u001b[0m\n\u001b[0m\u001b[1;32m    317\u001b[0m                 \u001b[0;32mraise\u001b[0m \u001b[0mtimeout\u001b[0m\u001b[0;34m(\u001b[0m\u001b[0;34m'The read operation timed out'\u001b[0m\u001b[0;34m)\u001b[0m\u001b[0;34m\u001b[0m\u001b[0;34m\u001b[0m\u001b[0m\n\u001b[1;32m    318\u001b[0m             \u001b[0;32melse\u001b[0m\u001b[0;34m:\u001b[0m\u001b[0;34m\u001b[0m\u001b[0;34m\u001b[0m\u001b[0m\n",
      "\u001b[0;32m/usr/local/lib/python3.7/dist-packages/urllib3/util/wait.py\u001b[0m in \u001b[0;36mwait_for_read\u001b[0;34m(sock, timeout)\u001b[0m\n\u001b[1;32m    141\u001b[0m     \u001b[0mReturns\u001b[0m \u001b[0;32mTrue\u001b[0m \u001b[0;32mif\u001b[0m \u001b[0mthe\u001b[0m \u001b[0msocket\u001b[0m \u001b[0;32mis\u001b[0m \u001b[0mreadable\u001b[0m\u001b[0;34m,\u001b[0m \u001b[0;32mor\u001b[0m \u001b[0;32mFalse\u001b[0m \u001b[0;32mif\u001b[0m \u001b[0mthe\u001b[0m \u001b[0mtimeout\u001b[0m \u001b[0mexpired\u001b[0m\u001b[0;34m.\u001b[0m\u001b[0;34m\u001b[0m\u001b[0;34m\u001b[0m\u001b[0m\n\u001b[1;32m    142\u001b[0m     \"\"\"\n\u001b[0;32m--> 143\u001b[0;31m     \u001b[0;32mreturn\u001b[0m \u001b[0mwait_for_socket\u001b[0m\u001b[0;34m(\u001b[0m\u001b[0msock\u001b[0m\u001b[0;34m,\u001b[0m \u001b[0mread\u001b[0m\u001b[0;34m=\u001b[0m\u001b[0;32mTrue\u001b[0m\u001b[0;34m,\u001b[0m \u001b[0mtimeout\u001b[0m\u001b[0;34m=\u001b[0m\u001b[0mtimeout\u001b[0m\u001b[0;34m)\u001b[0m\u001b[0;34m\u001b[0m\u001b[0;34m\u001b[0m\u001b[0m\n\u001b[0m\u001b[1;32m    144\u001b[0m \u001b[0;34m\u001b[0m\u001b[0m\n\u001b[1;32m    145\u001b[0m \u001b[0;34m\u001b[0m\u001b[0m\n",
      "\u001b[0;32m/usr/local/lib/python3.7/dist-packages/urllib3/util/wait.py\u001b[0m in \u001b[0;36mpoll_wait_for_socket\u001b[0;34m(sock, read, write, timeout)\u001b[0m\n\u001b[1;32m    102\u001b[0m         \u001b[0;32mreturn\u001b[0m \u001b[0mpoll_obj\u001b[0m\u001b[0;34m.\u001b[0m\u001b[0mpoll\u001b[0m\u001b[0;34m(\u001b[0m\u001b[0mt\u001b[0m\u001b[0;34m)\u001b[0m\u001b[0;34m\u001b[0m\u001b[0;34m\u001b[0m\u001b[0m\n\u001b[1;32m    103\u001b[0m \u001b[0;34m\u001b[0m\u001b[0m\n\u001b[0;32m--> 104\u001b[0;31m     \u001b[0;32mreturn\u001b[0m \u001b[0mbool\u001b[0m\u001b[0;34m(\u001b[0m\u001b[0m_retry_on_intr\u001b[0m\u001b[0;34m(\u001b[0m\u001b[0mdo_poll\u001b[0m\u001b[0;34m,\u001b[0m \u001b[0mtimeout\u001b[0m\u001b[0;34m)\u001b[0m\u001b[0;34m)\u001b[0m\u001b[0;34m\u001b[0m\u001b[0;34m\u001b[0m\u001b[0m\n\u001b[0m\u001b[1;32m    105\u001b[0m \u001b[0;34m\u001b[0m\u001b[0m\n\u001b[1;32m    106\u001b[0m \u001b[0;34m\u001b[0m\u001b[0m\n",
      "\u001b[0;32m/usr/local/lib/python3.7/dist-packages/urllib3/util/wait.py\u001b[0m in \u001b[0;36m_retry_on_intr\u001b[0;34m(fn, timeout)\u001b[0m\n\u001b[1;32m     40\u001b[0m     \u001b[0;31m# Modern Python, that retries syscalls by default\u001b[0m\u001b[0;34m\u001b[0m\u001b[0;34m\u001b[0m\u001b[0;34m\u001b[0m\u001b[0m\n\u001b[1;32m     41\u001b[0m     \u001b[0;32mdef\u001b[0m \u001b[0m_retry_on_intr\u001b[0m\u001b[0;34m(\u001b[0m\u001b[0mfn\u001b[0m\u001b[0;34m,\u001b[0m \u001b[0mtimeout\u001b[0m\u001b[0;34m)\u001b[0m\u001b[0;34m:\u001b[0m\u001b[0;34m\u001b[0m\u001b[0;34m\u001b[0m\u001b[0m\n\u001b[0;32m---> 42\u001b[0;31m         \u001b[0;32mreturn\u001b[0m \u001b[0mfn\u001b[0m\u001b[0;34m(\u001b[0m\u001b[0mtimeout\u001b[0m\u001b[0;34m)\u001b[0m\u001b[0;34m\u001b[0m\u001b[0;34m\u001b[0m\u001b[0m\n\u001b[0m\u001b[1;32m     43\u001b[0m \u001b[0;32melse\u001b[0m\u001b[0;34m:\u001b[0m\u001b[0;34m\u001b[0m\u001b[0;34m\u001b[0m\u001b[0m\n\u001b[1;32m     44\u001b[0m     \u001b[0;31m# Old and broken Pythons.\u001b[0m\u001b[0;34m\u001b[0m\u001b[0;34m\u001b[0m\u001b[0;34m\u001b[0m\u001b[0m\n",
      "\u001b[0;32m/usr/local/lib/python3.7/dist-packages/urllib3/util/wait.py\u001b[0m in \u001b[0;36mdo_poll\u001b[0;34m(t)\u001b[0m\n\u001b[1;32m    100\u001b[0m         \u001b[0;32mif\u001b[0m \u001b[0mt\u001b[0m \u001b[0;32mis\u001b[0m \u001b[0;32mnot\u001b[0m \u001b[0;32mNone\u001b[0m\u001b[0;34m:\u001b[0m\u001b[0;34m\u001b[0m\u001b[0;34m\u001b[0m\u001b[0m\n\u001b[1;32m    101\u001b[0m             \u001b[0mt\u001b[0m \u001b[0;34m*=\u001b[0m \u001b[0;36m1000\u001b[0m\u001b[0;34m\u001b[0m\u001b[0;34m\u001b[0m\u001b[0m\n\u001b[0;32m--> 102\u001b[0;31m         \u001b[0;32mreturn\u001b[0m \u001b[0mpoll_obj\u001b[0m\u001b[0;34m.\u001b[0m\u001b[0mpoll\u001b[0m\u001b[0;34m(\u001b[0m\u001b[0mt\u001b[0m\u001b[0;34m)\u001b[0m\u001b[0;34m\u001b[0m\u001b[0;34m\u001b[0m\u001b[0m\n\u001b[0m\u001b[1;32m    103\u001b[0m \u001b[0;34m\u001b[0m\u001b[0m\n\u001b[1;32m    104\u001b[0m     \u001b[0;32mreturn\u001b[0m \u001b[0mbool\u001b[0m\u001b[0;34m(\u001b[0m\u001b[0m_retry_on_intr\u001b[0m\u001b[0;34m(\u001b[0m\u001b[0mdo_poll\u001b[0m\u001b[0;34m,\u001b[0m \u001b[0mtimeout\u001b[0m\u001b[0;34m)\u001b[0m\u001b[0;34m)\u001b[0m\u001b[0;34m\u001b[0m\u001b[0;34m\u001b[0m\u001b[0m\n",
      "\u001b[0;31mKeyboardInterrupt\u001b[0m: "
     ]
    }
   ],
   "source": [
    "query = \"\"\"\n",
    "SELECT\n",
    "    DATE(created_at) AS pr_date,\n",
    "    actor.id,\n",
    "    actor.login,\n",
    "    JSON_EXTRACT(payload, '$.pull_request.user.id') as user_id,\n",
    "    JSON_EXTRACT(payload, '$.pull_request.id') as pr_id,\n",
    "    JSON_EXTRACT(payload, '$.pull_request.merged') as merged\n",
    "  FROM `githubarchive.month.*`\n",
    "  WHERE\n",
    "    _TABLE_SUFFIX IN ({0})\n",
    "    AND type = 'PullRequestEvent'\n",
    "    AND org.login = 'kubeflow'\n",
    "    AND JSON_EXTRACT(payload, '$.action') IN ('\"closed\"')\n",
    "\"\"\".format(\",\".join(months))\n",
    "\n",
    "all_prs=gbq.read_gbq(str(query), dialect='standard', project_id=PROJECT)"
   ]
  },
  {
   "cell_type": "code",
   "execution_count": null,
   "metadata": {},
   "outputs": [],
   "source": [
    "# Filter PRs to merged PRs\n",
    "v=all_prs[\"merged\"].values == 'true'\n",
    "merged_all_prs = all_prs.iloc[v]"
   ]
  },
  {
   "cell_type": "code",
   "execution_count": null,
   "metadata": {},
   "outputs": [],
   "source": [
    "p=pd.Series(data=merged_all_prs[\"user_id\"].values,index=merged_all_prs[\"pr_date\"])\n",
    "p=p.sort_index()"
   ]
  },
  {
   "cell_type": "code",
   "execution_count": null,
   "metadata": {},
   "outputs": [],
   "source": [
    "# Some solutions here: https://stackoverflow.com/questions/46470743/how-to-efficiently-compute-a-rolling-unique-count-in-a-pandas-time-series\n",
    "# Need to figure out how to do a time based window\n",
    "\n",
    "# TODO(jlewi): Is there a bug in the rolling window computation? creators ends up having the same number\n",
    "# of rows as p; so we end up with multiple datapoints for each day; but the values aren't the same for\n",
    "# each day. What is causing this effect?\n",
    "creators = p.rolling('28d').apply(lambda arr: pd.Series(arr).nunique())\n",
    "\n",
    "# We need to group the days. Rolling window will create a point for each data point\n",
    "creators_df = pd.DataFrame({\"day\": creators.index, \"num_authors\": creators.values})\n",
    "creators_df = creators_df.groupby(\"day\", as_index=False).max()"
   ]
  },
  {
   "cell_type": "code",
   "execution_count": null,
   "metadata": {},
   "outputs": [],
   "source": [
    "import altair as alt\n",
    "chart = alt.Chart(creators_df, title= \"Unique PR Authors (Last 28 Days)\")\n",
    "line = chart.mark_line().encode(\n",
    "  x= alt.X('day', title = \"Day\"),\n",
    "  y=alt.Y(\"num_authors\", title=\"# Unique Authors\"),    \n",
    ")\n",
    "\n",
    "point = line + line.mark_point()\n",
    "point.interactive()"
   ]
  },
  {
   "cell_type": "markdown",
   "metadata": {},
   "source": [
    "### Number Prs"
   ]
  },
  {
   "cell_type": "code",
   "execution_count": null,
   "metadata": {},
   "outputs": [],
   "source": [
    "pr_impulse=pd.Series(data=merged_all_prs[\"pr_id\"].values,index=merged_all_prs[\"pr_date\"])\n",
    "pr_impulse=pr_impulse.sort_index()\n",
    "\n",
    "unique_prs = pr_impulse.rolling('28d').apply(lambda arr: pd.Series(arr).nunique())\n",
    "\n",
    "prs_df = pd.DataFrame({\"day\": unique_prs.index, \"num_prs\": unique_prs.values})\n",
    "prs_df = prs_df.groupby(\"day\", as_index=False).max()"
   ]
  },
  {
   "cell_type": "code",
   "execution_count": null,
   "metadata": {},
   "outputs": [],
   "source": [
    "chart = alt.Chart(prs_df, title= \"Merged PRs (Last 28 Days)\")\n",
    "line = chart.mark_line().encode(\n",
    "  x= alt.X('day', title = \"Day\"),\n",
    "  y=alt.Y(\"num_prs\", title=\"# PRs\"),    \n",
    ")\n",
    "\n",
    "point = line + line.mark_point()\n",
    "point.interactive()"
   ]
  },
  {
   "cell_type": "markdown",
   "metadata": {},
   "source": [
    "## Release stats per release (quarter)\n",
    "\n",
    "* Compute stats about a release \n",
    "* We do this based on time\n",
    "* You can see a sample of the payload at [https://api.github.com/repos/kubeflow/pipelines/pulls/1038](https://api.github.com/repos/kubeflow/pipelines/pulls/1038)"
   ]
  },
  {
   "cell_type": "code",
   "execution_count": null,
   "metadata": {},
   "outputs": [],
   "source": [
    "release_months = []\n",
    "year = 2019\n",
    "\n",
    "\n",
    "for month in range(8, 11):\n",
    "    release_months.append(\"\\\"{0}{1:02}\\\"\".format(year, month))\n",
    "        \n",
    "\n",
    "query = \"\"\"\n",
    "SELECT\n",
    "    DATE(created_at) AS pr_date,\n",
    "    actor.id,\n",
    "    actor.login,\n",
    "    JSON_EXTRACT(payload, '$.pull_request.merged') as merged,\n",
    "    JSON_EXTRACT(payload, '$.pull_request.id') as pr_id,\n",
    "    JSON_EXTRACT(payload, '$.pull_request.url') as pr_url,\n",
    "    JSON_EXTRACT(payload, '$.pull_request.user.id') as user_id\n",
    "  FROM `githubarchive.month.*`\n",
    "  WHERE\n",
    "    _TABLE_SUFFIX IN ({0})\n",
    "    AND type = 'PullRequestEvent'\n",
    "    AND org.login = 'kubeflow'\n",
    "    AND JSON_EXTRACT(payload, '$.action') IN ('\"closed\"')\n",
    "\"\"\".format(\",\".join(release_months))\n",
    "\n",
    "prs=gbq.read_gbq(str(query), dialect='standard', project_id=PROJECT)"
   ]
  },
  {
   "cell_type": "code",
   "execution_count": null,
   "metadata": {},
   "outputs": [],
   "source": [
    "# Filter PRs to merged PRs\n",
    "v=prs[\"merged\"].values == 'true'\n",
    "merged_prs = prs.iloc[v]"
   ]
  },
  {
   "cell_type": "code",
   "execution_count": null,
   "metadata": {},
   "outputs": [],
   "source": [
    "unique_pr_logins = prs[\"user_id\"].unique()\n",
    "unique_prs = prs[\"pr_id\"].unique()\n",
    "\n",
    "merged_unique_logins = merged_prs[\"user_id\"].unique()\n",
    "merged_unique_prs = merged_prs[\"pr_id\"].unique()\n",
    "print(\"Number of unique pr authors (merged & unmerged) {0}\".format(unique_pr_logins.shape))\n",
    "print(\"Number of unique prs (merged & unmerged) {0}\".format(unique_prs.shape))\n",
    "print(\"Number of unique pr authors (merged) {0}\".format(merged_unique_logins.shape))\n",
    "print(\"Number of unique prs (merged) {0}\".format(merged_unique_prs.shape))"
   ]
  },
  {
   "cell_type": "markdown",
   "metadata": {},
   "source": [
    "## Get a list of distinct actions\n",
    "\n",
    "* Here's a list of events in the [api](https://developer.github.com/v4/union/pullrequesttimelineitems/)\n",
    "* It looks like these are different from the ones in the github archive"
   ]
  },
  {
   "cell_type": "code",
   "execution_count": null,
   "metadata": {},
   "outputs": [],
   "source": [
    "query = \"\"\"\n",
    "SELECT\n",
    "    distinct JSON_EXTRACT(payload, '$.action')\n",
    "  FROM `githubarchive.month.*`\n",
    "  WHERE\n",
    "    _TABLE_SUFFIX IN ({0})    \n",
    "\"\"\".format(\",\".join(months))\n",
    "\n",
    "actions=gbq.read_gbq(str(query), dialect='standard', project_id=PROJECT)"
   ]
  },
  {
   "cell_type": "code",
   "execution_count": null,
   "metadata": {},
   "outputs": [],
   "source": [
    "actions"
   ]
  },
  {
   "cell_type": "markdown",
   "metadata": {},
   "source": [
    "## New Issues Last 28 Days"
   ]
  },
  {
   "cell_type": "code",
   "execution_count": 7,
   "metadata": {},
   "outputs": [
    {
     "name": "stderr",
     "output_type": "stream",
     "text": [
      "/home/jlewi/.local/lib/python3.7/site-packages/google/auth/_default.py:69: UserWarning: Your application has authenticated using end user credentials from Google Cloud SDK without a quota project. You might receive a \"quota exceeded\" or \"API not enabled\" error. We recommend you rerun `gcloud auth application-default login` and make sure a quota project is added. Or you can use service accounts instead. For more information about service accounts, see https://cloud.google.com/docs/authentication/\n",
      "  warnings.warn(_CLOUD_SDK_CREDENTIALS_WARNING)\n"
     ]
    }
   ],
   "source": [
    "query = \"\"\"\n",
    "SELECT\n",
    "    DATE(created_at) AS issue_date,\n",
    "    actor.id,\n",
    "    actor.login,\n",
    "    JSON_EXTRACT(payload, '$.pull_request.id') as issue_id,\n",
    "    JSON_EXTRACT(payload, '$.pull_request.url') as issue_url  \n",
    "  FROM `githubarchive.month.*`\n",
    "  WHERE\n",
    "    _TABLE_SUFFIX IN ({0})\n",
    "    AND type = 'IssuesEvent'\n",
    "    AND org.login = 'kubeflow'\n",
    "    AND JSON_EXTRACT(payload, '$.action') IN ('\"opened\"')\n",
    "\"\"\".format(\",\".join(months))\n",
    "\n",
    "issues=gbq.read_gbq(str(query), dialect='standard', project_id=PROJECT)"
   ]
  },
  {
   "cell_type": "code",
   "execution_count": 8,
   "metadata": {},
   "outputs": [],
   "source": [
    "issue_counts=issues[\"issue_date\"].value_counts()\n",
    "issue_counts=issue_counts.sort_index()\n",
    "rolling_issue_count = issue_counts.rolling('28d').sum()"
   ]
  },
  {
   "cell_type": "code",
   "execution_count": 11,
   "metadata": {},
   "outputs": [
    {
     "data": {
      "text/html": [
       "\n",
       "<div id=\"altair-viz-b3b7c42b33aa4054a590c301903afefd\"></div>\n",
       "<script type=\"text/javascript\">\n",
       "  (function(spec, embedOpt){\n",
       "    const outputDiv = document.getElementById(\"altair-viz-b3b7c42b33aa4054a590c301903afefd\");\n",
       "    const paths = {\n",
       "      \"vega\": \"https://cdn.jsdelivr.net/npm//vega@5?noext\",\n",
       "      \"vega-lib\": \"https://cdn.jsdelivr.net/npm//vega-lib?noext\",\n",
       "      \"vega-lite\": \"https://cdn.jsdelivr.net/npm//vega-lite@4.0.2?noext\",\n",
       "      \"vega-embed\": \"https://cdn.jsdelivr.net/npm//vega-embed@6?noext\",\n",
       "    };\n",
       "\n",
       "    function loadScript(lib) {\n",
       "      return new Promise(function(resolve, reject) {\n",
       "        var s = document.createElement('script');\n",
       "        s.src = paths[lib];\n",
       "        s.async = true;\n",
       "        s.onload = () => resolve(paths[lib]);\n",
       "        s.onerror = () => reject(`Error loading script: ${paths[lib]}`);\n",
       "        document.getElementsByTagName(\"head\")[0].appendChild(s);\n",
       "      });\n",
       "    }\n",
       "\n",
       "    function showError(err) {\n",
       "      outputDiv.innerHTML = `<div class=\"error\" style=\"color:red;\">${err}</div>`;\n",
       "      throw err;\n",
       "    }\n",
       "\n",
       "    function displayChart(vegaEmbed) {\n",
       "      vegaEmbed(outputDiv, spec, embedOpt)\n",
       "        .catch(err => showError(`Javascript Error: ${err.message}<br>This usually means there's a typo in your chart specification. See the javascript console for the full traceback.`));\n",
       "    }\n",
       "\n",
       "    if(typeof define === \"function\" && define.amd) {\n",
       "      requirejs.config({paths});\n",
       "      require([\"vega-embed\"], displayChart, err => showError(`Error loading script: ${err.message}`));\n",
       "    } else if (typeof vegaEmbed === \"function\") {\n",
       "      displayChart(vegaEmbed);\n",
       "    } else {\n",
       "      loadScript(\"vega\")\n",
       "        .then(() => loadScript(\"vega-lite\"))\n",
       "        .then(() => loadScript(\"vega-embed\"))\n",
       "        .catch(showError)\n",
       "        .then(() => displayChart(vegaEmbed));\n",
       "    }\n",
       "  })({\"config\": {\"view\": {\"continuousWidth\": 400, \"continuousHeight\": 300}}, \"layer\": [{\"mark\": \"line\", \"encoding\": {\"x\": {\"type\": \"temporal\", \"field\": \"day\", \"title\": \"Day\"}, \"y\": {\"type\": \"quantitative\", \"field\": \"num_issues\", \"title\": \"# PRs\"}}, \"selection\": {\"selector001\": {\"type\": \"interval\", \"bind\": \"scales\", \"encodings\": [\"x\", \"y\"]}}, \"title\": \"New Issues (Last 28 Days)\"}, {\"mark\": \"point\", \"encoding\": {\"x\": {\"type\": \"temporal\", \"field\": \"day\", \"title\": \"Day\"}, \"y\": {\"type\": \"quantitative\", \"field\": \"num_issues\", \"title\": \"# PRs\"}}, \"title\": \"New Issues (Last 28 Days)\"}], \"data\": {\"name\": \"data-19ac1396513e6b7e9f8ae0300a649c15\"}, \"$schema\": \"https://vega.github.io/schema/vega-lite/v4.0.2.json\", \"datasets\": {\"data-19ac1396513e6b7e9f8ae0300a649c15\": [{\"day\": \"2019-08-01T00:00:00\", \"num_issues\": 18.0}, {\"day\": \"2019-08-02T00:00:00\", \"num_issues\": 24.0}, {\"day\": \"2019-08-03T00:00:00\", \"num_issues\": 27.0}, {\"day\": \"2019-08-04T00:00:00\", \"num_issues\": 30.0}, {\"day\": \"2019-08-05T00:00:00\", \"num_issues\": 48.0}, {\"day\": \"2019-08-06T00:00:00\", \"num_issues\": 64.0}, {\"day\": \"2019-08-07T00:00:00\", \"num_issues\": 94.0}, {\"day\": \"2019-08-08T00:00:00\", \"num_issues\": 111.0}, {\"day\": \"2019-08-09T00:00:00\", \"num_issues\": 132.0}, {\"day\": \"2019-08-10T00:00:00\", \"num_issues\": 138.0}, {\"day\": \"2019-08-11T00:00:00\", \"num_issues\": 139.0}, {\"day\": \"2019-08-12T00:00:00\", \"num_issues\": 159.0}, {\"day\": \"2019-08-13T00:00:00\", \"num_issues\": 183.0}, {\"day\": \"2019-08-14T00:00:00\", \"num_issues\": 199.0}, {\"day\": \"2019-08-15T00:00:00\", \"num_issues\": 213.0}, {\"day\": \"2019-08-16T00:00:00\", \"num_issues\": 236.0}, {\"day\": \"2019-08-17T00:00:00\", \"num_issues\": 241.0}, {\"day\": \"2019-08-18T00:00:00\", \"num_issues\": 246.0}, {\"day\": \"2019-08-19T00:00:00\", \"num_issues\": 262.0}, {\"day\": \"2019-08-20T00:00:00\", \"num_issues\": 274.0}, {\"day\": \"2019-08-21T00:00:00\", \"num_issues\": 291.0}, {\"day\": \"2019-08-22T00:00:00\", \"num_issues\": 302.0}, {\"day\": \"2019-08-23T00:00:00\", \"num_issues\": 313.0}, {\"day\": \"2019-08-24T00:00:00\", \"num_issues\": 319.0}, {\"day\": \"2019-08-25T00:00:00\", \"num_issues\": 325.0}, {\"day\": \"2019-08-26T00:00:00\", \"num_issues\": 334.0}, {\"day\": \"2019-08-27T00:00:00\", \"num_issues\": 341.0}, {\"day\": \"2019-08-28T00:00:00\", \"num_issues\": 345.0}, {\"day\": \"2019-08-29T00:00:00\", \"num_issues\": 339.0}, {\"day\": \"2019-08-30T00:00:00\", \"num_issues\": 342.0}, {\"day\": \"2019-08-31T00:00:00\", \"num_issues\": 341.0}, {\"day\": \"2019-09-01T00:00:00\", \"num_issues\": 342.0}, {\"day\": \"2019-09-02T00:00:00\", \"num_issues\": 325.0}, {\"day\": \"2019-09-03T00:00:00\", \"num_issues\": 323.0}, {\"day\": \"2019-09-04T00:00:00\", \"num_issues\": 336.0}, {\"day\": \"2019-09-05T00:00:00\", \"num_issues\": 338.0}, {\"day\": \"2019-09-06T00:00:00\", \"num_issues\": 326.0}, {\"day\": \"2019-09-07T00:00:00\", \"num_issues\": 323.0}, {\"day\": \"2019-09-08T00:00:00\", \"num_issues\": 325.0}, {\"day\": \"2019-09-09T00:00:00\", \"num_issues\": 324.0}, {\"day\": \"2019-09-10T00:00:00\", \"num_issues\": 305.0}, {\"day\": \"2019-09-11T00:00:00\", \"num_issues\": 306.0}, {\"day\": \"2019-09-12T00:00:00\", \"num_issues\": 295.0}, {\"day\": \"2019-09-13T00:00:00\", \"num_issues\": 284.0}, {\"day\": \"2019-09-14T00:00:00\", \"num_issues\": 285.0}, {\"day\": \"2019-09-15T00:00:00\", \"num_issues\": 284.0}, {\"day\": \"2019-09-16T00:00:00\", \"num_issues\": 277.0}, {\"day\": \"2019-09-17T00:00:00\", \"num_issues\": 280.0}, {\"day\": \"2019-09-18T00:00:00\", \"num_issues\": 278.0}, {\"day\": \"2019-09-19T00:00:00\", \"num_issues\": 280.0}, {\"day\": \"2019-09-20T00:00:00\", \"num_issues\": 285.0}, {\"day\": \"2019-09-21T00:00:00\", \"num_issues\": 281.0}, {\"day\": \"2019-09-22T00:00:00\", \"num_issues\": 278.0}, {\"day\": \"2019-09-23T00:00:00\", \"num_issues\": 285.0}, {\"day\": \"2019-09-24T00:00:00\", \"num_issues\": 290.0}, {\"day\": \"2019-09-25T00:00:00\", \"num_issues\": 306.0}, {\"day\": \"2019-09-26T00:00:00\", \"num_issues\": 307.0}, {\"day\": \"2019-09-27T00:00:00\", \"num_issues\": 319.0}, {\"day\": \"2019-09-28T00:00:00\", \"num_issues\": 322.0}, {\"day\": \"2019-09-29T00:00:00\", \"num_issues\": 322.0}, {\"day\": \"2019-09-30T00:00:00\", \"num_issues\": 328.0}, {\"day\": \"2019-10-01T00:00:00\", \"num_issues\": 322.0}, {\"day\": \"2019-10-02T00:00:00\", \"num_issues\": 293.0}, {\"day\": \"2019-10-03T00:00:00\", \"num_issues\": 292.0}, {\"day\": \"2019-10-04T00:00:00\", \"num_issues\": 305.0}, {\"day\": \"2019-10-06T00:00:00\", \"num_issues\": 314.0}, {\"day\": \"2019-10-07T00:00:00\", \"num_issues\": 316.0}, {\"day\": \"2019-10-08T00:00:00\", \"num_issues\": 326.0}, {\"day\": \"2019-10-09T00:00:00\", \"num_issues\": 335.0}, {\"day\": \"2019-10-10T00:00:00\", \"num_issues\": 364.0}, {\"day\": \"2019-10-11T00:00:00\", \"num_issues\": 374.0}, {\"day\": \"2019-10-12T00:00:00\", \"num_issues\": 378.0}, {\"day\": \"2019-10-13T00:00:00\", \"num_issues\": 377.0}, {\"day\": \"2019-10-14T00:00:00\", \"num_issues\": 385.0}, {\"day\": \"2019-10-15T00:00:00\", \"num_issues\": 395.0}, {\"day\": \"2019-10-16T00:00:00\", \"num_issues\": 406.0}, {\"day\": \"2019-10-17T00:00:00\", \"num_issues\": 414.0}, {\"day\": \"2019-10-18T00:00:00\", \"num_issues\": 413.0}, {\"day\": \"2019-10-19T00:00:00\", \"num_issues\": 412.0}, {\"day\": \"2019-10-20T00:00:00\", \"num_issues\": 417.0}, {\"day\": \"2019-10-21T00:00:00\", \"num_issues\": 411.0}, {\"day\": \"2019-10-22T00:00:00\", \"num_issues\": 413.0}, {\"day\": \"2019-10-23T00:00:00\", \"num_issues\": 417.0}, {\"day\": \"2019-10-24T00:00:00\", \"num_issues\": 425.0}, {\"day\": \"2019-10-25T00:00:00\", \"num_issues\": 426.0}, {\"day\": \"2019-10-26T00:00:00\", \"num_issues\": 425.0}, {\"day\": \"2019-10-27T00:00:00\", \"num_issues\": 422.0}, {\"day\": \"2019-10-28T00:00:00\", \"num_issues\": 427.0}, {\"day\": \"2019-10-29T00:00:00\", \"num_issues\": 435.0}, {\"day\": \"2019-10-30T00:00:00\", \"num_issues\": 440.0}, {\"day\": \"2019-10-31T00:00:00\", \"num_issues\": 444.0}, {\"day\": \"2019-11-01T00:00:00\", \"num_issues\": 435.0}, {\"day\": \"2019-11-02T00:00:00\", \"num_issues\": 442.0}, {\"day\": \"2019-11-04T00:00:00\", \"num_issues\": 422.0}, {\"day\": \"2019-11-05T00:00:00\", \"num_issues\": 413.0}, {\"day\": \"2019-11-06T00:00:00\", \"num_issues\": 400.0}, {\"day\": \"2019-11-07T00:00:00\", \"num_issues\": 383.0}, {\"day\": \"2019-11-08T00:00:00\", \"num_issues\": 376.0}, {\"day\": \"2019-11-09T00:00:00\", \"num_issues\": 372.0}, {\"day\": \"2019-11-10T00:00:00\", \"num_issues\": 374.0}, {\"day\": \"2019-11-11T00:00:00\", \"num_issues\": 368.0}, {\"day\": \"2019-11-12T00:00:00\", \"num_issues\": 354.0}, {\"day\": \"2019-11-13T00:00:00\", \"num_issues\": 336.0}, {\"day\": \"2019-11-14T00:00:00\", \"num_issues\": 356.0}, {\"day\": \"2019-11-15T00:00:00\", \"num_issues\": 349.0}, {\"day\": \"2019-11-16T00:00:00\", \"num_issues\": 350.0}, {\"day\": \"2019-11-18T00:00:00\", \"num_issues\": 337.0}, {\"day\": \"2019-11-19T00:00:00\", \"num_issues\": 327.0}, {\"day\": \"2019-11-20T00:00:00\", \"num_issues\": 315.0}, {\"day\": \"2019-11-21T00:00:00\", \"num_issues\": 304.0}, {\"day\": \"2019-11-22T00:00:00\", \"num_issues\": 296.0}, {\"day\": \"2019-11-23T00:00:00\", \"num_issues\": 296.0}, {\"day\": \"2019-11-24T00:00:00\", \"num_issues\": 299.0}, {\"day\": \"2019-11-25T00:00:00\", \"num_issues\": 304.0}, {\"day\": \"2019-11-26T00:00:00\", \"num_issues\": 304.0}, {\"day\": \"2019-11-27T00:00:00\", \"num_issues\": 301.0}, {\"day\": \"2019-11-28T00:00:00\", \"num_issues\": 293.0}, {\"day\": \"2019-11-29T00:00:00\", \"num_issues\": 284.0}, {\"day\": \"2019-11-30T00:00:00\", \"num_issues\": 280.0}, {\"day\": \"2019-12-01T00:00:00\", \"num_issues\": 281.0}, {\"day\": \"2019-12-02T00:00:00\", \"num_issues\": 274.0}, {\"day\": \"2019-12-03T00:00:00\", \"num_issues\": 277.0}, {\"day\": \"2019-12-04T00:00:00\", \"num_issues\": 272.0}, {\"day\": \"2019-12-05T00:00:00\", \"num_issues\": 266.0}, {\"day\": \"2019-12-06T00:00:00\", \"num_issues\": 263.0}, {\"day\": \"2019-12-07T00:00:00\", \"num_issues\": 260.0}, {\"day\": \"2019-12-09T00:00:00\", \"num_issues\": 261.0}, {\"day\": \"2019-12-10T00:00:00\", \"num_issues\": 260.0}, {\"day\": \"2019-12-11T00:00:00\", \"num_issues\": 271.0}, {\"day\": \"2019-12-12T00:00:00\", \"num_issues\": 244.0}, {\"day\": \"2019-12-13T00:00:00\", \"num_issues\": 253.0}, {\"day\": \"2019-12-14T00:00:00\", \"num_issues\": 253.0}, {\"day\": \"2019-12-16T00:00:00\", \"num_issues\": 278.0}, {\"day\": \"2019-12-17T00:00:00\", \"num_issues\": 283.0}, {\"day\": \"2019-12-18T00:00:00\", \"num_issues\": 282.0}, {\"day\": \"2019-12-19T00:00:00\", \"num_issues\": 278.0}, {\"day\": \"2019-12-20T00:00:00\", \"num_issues\": 272.0}, {\"day\": \"2019-12-21T00:00:00\", \"num_issues\": 270.0}, {\"day\": \"2019-12-22T00:00:00\", \"num_issues\": 269.0}, {\"day\": \"2019-12-23T00:00:00\", \"num_issues\": 261.0}, {\"day\": \"2019-12-24T00:00:00\", \"num_issues\": 252.0}, {\"day\": \"2019-12-25T00:00:00\", \"num_issues\": 240.0}, {\"day\": \"2019-12-26T00:00:00\", \"num_issues\": 230.0}, {\"day\": \"2019-12-27T00:00:00\", \"num_issues\": 231.0}, {\"day\": \"2019-12-28T00:00:00\", \"num_issues\": 230.0}, {\"day\": \"2019-12-29T00:00:00\", \"num_issues\": 231.0}, {\"day\": \"2019-12-30T00:00:00\", \"num_issues\": 226.0}, {\"day\": \"2019-12-31T00:00:00\", \"num_issues\": 223.0}, {\"day\": \"2020-01-01T00:00:00\", \"num_issues\": 217.0}, {\"day\": \"2020-01-02T00:00:00\", \"num_issues\": 214.0}, {\"day\": \"2020-01-03T00:00:00\", \"num_issues\": 212.0}, {\"day\": \"2020-01-04T00:00:00\", \"num_issues\": 210.0}, {\"day\": \"2020-01-05T00:00:00\", \"num_issues\": 211.0}, {\"day\": \"2020-01-06T00:00:00\", \"num_issues\": 210.0}, {\"day\": \"2020-01-07T00:00:00\", \"num_issues\": 218.0}, {\"day\": \"2020-01-08T00:00:00\", \"num_issues\": 208.0}, {\"day\": \"2020-01-09T00:00:00\", \"num_issues\": 209.0}, {\"day\": \"2020-01-10T00:00:00\", \"num_issues\": 199.0}, {\"day\": \"2020-01-11T00:00:00\", \"num_issues\": 201.0}, {\"day\": \"2020-01-12T00:00:00\", \"num_issues\": 203.0}, {\"day\": \"2020-01-13T00:00:00\", \"num_issues\": 182.0}, {\"day\": \"2020-01-14T00:00:00\", \"num_issues\": 185.0}, {\"day\": \"2020-01-15T00:00:00\", \"num_issues\": 185.0}, {\"day\": \"2020-01-16T00:00:00\", \"num_issues\": 189.0}, {\"day\": \"2020-01-17T00:00:00\", \"num_issues\": 195.0}, {\"day\": \"2020-01-18T00:00:00\", \"num_issues\": 198.0}, {\"day\": \"2020-01-19T00:00:00\", \"num_issues\": 197.0}, {\"day\": \"2020-01-20T00:00:00\", \"num_issues\": 198.0}, {\"day\": \"2020-01-21T00:00:00\", \"num_issues\": 208.0}, {\"day\": \"2020-01-22T00:00:00\", \"num_issues\": 218.0}, {\"day\": \"2020-01-23T00:00:00\", \"num_issues\": 240.0}, {\"day\": \"2020-01-24T00:00:00\", \"num_issues\": 244.0}, {\"day\": \"2020-01-25T00:00:00\", \"num_issues\": 243.0}, {\"day\": \"2020-01-26T00:00:00\", \"num_issues\": 246.0}, {\"day\": \"2020-01-27T00:00:00\", \"num_issues\": 247.0}, {\"day\": \"2020-01-28T00:00:00\", \"num_issues\": 257.0}, {\"day\": \"2020-01-29T00:00:00\", \"num_issues\": 277.0}, {\"day\": \"2020-01-30T00:00:00\", \"num_issues\": 295.0}, {\"day\": \"2020-01-31T00:00:00\", \"num_issues\": 303.0}, {\"day\": \"2020-02-01T00:00:00\", \"num_issues\": 305.0}, {\"day\": \"2020-02-02T00:00:00\", \"num_issues\": 311.0}, {\"day\": \"2020-02-03T00:00:00\", \"num_issues\": 314.0}, {\"day\": \"2020-02-04T00:00:00\", \"num_issues\": 317.0}, {\"day\": \"2020-02-05T00:00:00\", \"num_issues\": 325.0}, {\"day\": \"2020-02-06T00:00:00\", \"num_issues\": 321.0}, {\"day\": \"2020-02-07T00:00:00\", \"num_issues\": 326.0}, {\"day\": \"2020-02-08T00:00:00\", \"num_issues\": 324.0}, {\"day\": \"2020-02-09T00:00:00\", \"num_issues\": 331.0}, {\"day\": \"2020-02-10T00:00:00\", \"num_issues\": 344.0}, {\"day\": \"2020-02-11T00:00:00\", \"num_issues\": 353.0}, {\"day\": \"2020-02-12T00:00:00\", \"num_issues\": 373.0}, {\"day\": \"2020-02-13T00:00:00\", \"num_issues\": 382.0}, {\"day\": \"2020-02-14T00:00:00\", \"num_issues\": 389.0}, {\"day\": \"2020-02-15T00:00:00\", \"num_issues\": 387.0}, {\"day\": \"2020-02-16T00:00:00\", \"num_issues\": 388.0}, {\"day\": \"2020-02-17T00:00:00\", \"num_issues\": 391.0}, {\"day\": \"2020-02-18T00:00:00\", \"num_issues\": 384.0}, {\"day\": \"2020-02-19T00:00:00\", \"num_issues\": 390.0}, {\"day\": \"2020-02-20T00:00:00\", \"num_issues\": 376.0}, {\"day\": \"2020-02-21T00:00:00\", \"num_issues\": 376.0}, {\"day\": \"2020-02-22T00:00:00\", \"num_issues\": 378.0}, {\"day\": \"2020-02-23T00:00:00\", \"num_issues\": 377.0}, {\"day\": \"2020-02-24T00:00:00\", \"num_issues\": 393.0}, {\"day\": \"2020-02-25T00:00:00\", \"num_issues\": 382.0}, {\"day\": \"2020-02-26T00:00:00\", \"num_issues\": 368.0}, {\"day\": \"2020-02-27T00:00:00\", \"num_issues\": 355.0}, {\"day\": \"2020-02-28T00:00:00\", \"num_issues\": 354.0}, {\"day\": \"2020-02-29T00:00:00\", \"num_issues\": 354.0}, {\"day\": \"2020-03-01T00:00:00\", \"num_issues\": 350.0}, {\"day\": \"2020-03-02T00:00:00\", \"num_issues\": 339.0}, {\"day\": \"2020-03-03T00:00:00\", \"num_issues\": 335.0}, {\"day\": \"2020-03-04T00:00:00\", \"num_issues\": 335.0}, {\"day\": \"2020-03-05T00:00:00\", \"num_issues\": 334.0}, {\"day\": \"2020-03-06T00:00:00\", \"num_issues\": 332.0}, {\"day\": \"2020-03-07T00:00:00\", \"num_issues\": 333.0}, {\"day\": \"2020-03-08T00:00:00\", \"num_issues\": 328.0}, {\"day\": \"2020-03-09T00:00:00\", \"num_issues\": 319.0}, {\"day\": \"2020-03-10T00:00:00\", \"num_issues\": 320.0}, {\"day\": \"2020-03-11T00:00:00\", \"num_issues\": 306.0}, {\"day\": \"2020-03-12T00:00:00\", \"num_issues\": 302.0}, {\"day\": \"2020-03-13T00:00:00\", \"num_issues\": 300.0}, {\"day\": \"2020-03-14T00:00:00\", \"num_issues\": 299.0}, {\"day\": \"2020-03-15T00:00:00\", \"num_issues\": 303.0}, {\"day\": \"2020-03-16T00:00:00\", \"num_issues\": 314.0}, {\"day\": \"2020-03-17T00:00:00\", \"num_issues\": 325.0}, {\"day\": \"2020-03-18T00:00:00\", \"num_issues\": 324.0}, {\"day\": \"2020-03-19T00:00:00\", \"num_issues\": 322.0}, {\"day\": \"2020-03-20T00:00:00\", \"num_issues\": 330.0}, {\"day\": \"2020-03-21T00:00:00\", \"num_issues\": 330.0}, {\"day\": \"2020-03-22T00:00:00\", \"num_issues\": 328.0}, {\"day\": \"2020-03-23T00:00:00\", \"num_issues\": 329.0}, {\"day\": \"2020-03-24T00:00:00\", \"num_issues\": 339.0}, {\"day\": \"2020-03-25T00:00:00\", \"num_issues\": 347.0}, {\"day\": \"2020-03-26T00:00:00\", \"num_issues\": 347.0}, {\"day\": \"2020-03-27T00:00:00\", \"num_issues\": 344.0}, {\"day\": \"2020-03-29T00:00:00\", \"num_issues\": 344.0}, {\"day\": \"2020-03-30T00:00:00\", \"num_issues\": 348.0}, {\"day\": \"2020-03-31T00:00:00\", \"num_issues\": 340.0}, {\"day\": \"2020-04-01T00:00:00\", \"num_issues\": 331.0}, {\"day\": \"2020-04-02T00:00:00\", \"num_issues\": 334.0}, {\"day\": \"2020-04-03T00:00:00\", \"num_issues\": 341.0}, {\"day\": \"2020-04-04T00:00:00\", \"num_issues\": 342.0}, {\"day\": \"2020-04-05T00:00:00\", \"num_issues\": 343.0}, {\"day\": \"2020-04-06T00:00:00\", \"num_issues\": 345.0}, {\"day\": \"2020-04-07T00:00:00\", \"num_issues\": 345.0}, {\"day\": \"2020-04-08T00:00:00\", \"num_issues\": 343.0}, {\"day\": \"2020-04-09T00:00:00\", \"num_issues\": 336.0}, {\"day\": \"2020-04-10T00:00:00\", \"num_issues\": 341.0}, {\"day\": \"2020-04-11T00:00:00\", \"num_issues\": 343.0}, {\"day\": \"2020-04-12T00:00:00\", \"num_issues\": 346.0}, {\"day\": \"2020-04-13T00:00:00\", \"num_issues\": 333.0}, {\"day\": \"2020-04-14T00:00:00\", \"num_issues\": 333.0}, {\"day\": \"2020-04-15T00:00:00\", \"num_issues\": 326.0}, {\"day\": \"2020-04-16T00:00:00\", \"num_issues\": 332.0}, {\"day\": \"2020-04-17T00:00:00\", \"num_issues\": 333.0}, {\"day\": \"2020-04-19T00:00:00\", \"num_issues\": 332.0}, {\"day\": \"2020-04-20T00:00:00\", \"num_issues\": 339.0}, {\"day\": \"2020-04-21T00:00:00\", \"num_issues\": 341.0}, {\"day\": \"2020-04-22T00:00:00\", \"num_issues\": 335.0}, {\"day\": \"2020-04-23T00:00:00\", \"num_issues\": 339.0}, {\"day\": \"2020-04-24T00:00:00\", \"num_issues\": 341.0}, {\"day\": \"2020-04-25T00:00:00\", \"num_issues\": 346.0}, {\"day\": \"2020-04-26T00:00:00\", \"num_issues\": 344.0}, {\"day\": \"2020-04-27T00:00:00\", \"num_issues\": 349.0}, {\"day\": \"2020-04-28T00:00:00\", \"num_issues\": 350.0}, {\"day\": \"2020-04-29T00:00:00\", \"num_issues\": 356.0}, {\"day\": \"2020-04-30T00:00:00\", \"num_issues\": 354.0}, {\"day\": \"2020-05-01T00:00:00\", \"num_issues\": 346.0}, {\"day\": \"2020-05-02T00:00:00\", \"num_issues\": 350.0}, {\"day\": \"2020-05-03T00:00:00\", \"num_issues\": 348.0}, {\"day\": \"2020-05-04T00:00:00\", \"num_issues\": 340.0}, {\"day\": \"2020-05-05T00:00:00\", \"num_issues\": 334.0}, {\"day\": \"2020-05-06T00:00:00\", \"num_issues\": 337.0}, {\"day\": \"2020-05-07T00:00:00\", \"num_issues\": 337.0}, {\"day\": \"2020-05-08T00:00:00\", \"num_issues\": 327.0}, {\"day\": \"2020-05-09T00:00:00\", \"num_issues\": 335.0}, {\"day\": \"2020-05-10T00:00:00\", \"num_issues\": 328.0}, {\"day\": \"2020-05-11T00:00:00\", \"num_issues\": 329.0}, {\"day\": \"2020-05-12T00:00:00\", \"num_issues\": 322.0}, {\"day\": \"2020-05-13T00:00:00\", \"num_issues\": 324.0}, {\"day\": \"2020-05-14T00:00:00\", \"num_issues\": 321.0}, {\"day\": \"2020-05-15T00:00:00\", \"num_issues\": 327.0}, {\"day\": \"2020-05-16T00:00:00\", \"num_issues\": 330.0}, {\"day\": \"2020-05-17T00:00:00\", \"num_issues\": 328.0}, {\"day\": \"2020-05-18T00:00:00\", \"num_issues\": 318.0}, {\"day\": \"2020-05-19T00:00:00\", \"num_issues\": 319.0}, {\"day\": \"2020-05-20T00:00:00\", \"num_issues\": 329.0}, {\"day\": \"2020-05-21T00:00:00\", \"num_issues\": 328.0}, {\"day\": \"2020-05-22T00:00:00\", \"num_issues\": 332.0}, {\"day\": \"2020-05-23T00:00:00\", \"num_issues\": 329.0}, {\"day\": \"2020-05-25T00:00:00\", \"num_issues\": 314.0}, {\"day\": \"2020-05-26T00:00:00\", \"num_issues\": 315.0}, {\"day\": \"2020-05-27T00:00:00\", \"num_issues\": 305.0}, {\"day\": \"2020-05-28T00:00:00\", \"num_issues\": 305.0}, {\"day\": \"2020-05-29T00:00:00\", \"num_issues\": 310.0}, {\"day\": \"2020-05-30T00:00:00\", \"num_issues\": 307.0}, {\"day\": \"2020-05-31T00:00:00\", \"num_issues\": 306.0}, {\"day\": \"2020-06-01T00:00:00\", \"num_issues\": 311.0}, {\"day\": \"2020-06-02T00:00:00\", \"num_issues\": 302.0}, {\"day\": \"2020-06-03T00:00:00\", \"num_issues\": 297.0}, {\"day\": \"2020-06-04T00:00:00\", \"num_issues\": 301.0}, {\"day\": \"2020-06-05T00:00:00\", \"num_issues\": 295.0}, {\"day\": \"2020-06-06T00:00:00\", \"num_issues\": 285.0}, {\"day\": \"2020-06-07T00:00:00\", \"num_issues\": 283.0}, {\"day\": \"2020-06-08T00:00:00\", \"num_issues\": 287.0}, {\"day\": \"2020-06-09T00:00:00\", \"num_issues\": 294.0}, {\"day\": \"2020-06-10T00:00:00\", \"num_issues\": 285.0}, {\"day\": \"2020-06-11T00:00:00\", \"num_issues\": 291.0}, {\"day\": \"2020-06-12T00:00:00\", \"num_issues\": 276.0}, {\"day\": \"2020-06-13T00:00:00\", \"num_issues\": 274.0}, {\"day\": \"2020-06-14T00:00:00\", \"num_issues\": 273.0}, {\"day\": \"2020-06-15T00:00:00\", \"num_issues\": 266.0}, {\"day\": \"2020-06-16T00:00:00\", \"num_issues\": 278.0}, {\"day\": \"2020-06-17T00:00:00\", \"num_issues\": 275.0}, {\"day\": \"2020-06-18T00:00:00\", \"num_issues\": 283.0}, {\"day\": \"2020-06-19T00:00:00\", \"num_issues\": 274.0}, {\"day\": \"2020-06-20T00:00:00\", \"num_issues\": 275.0}, {\"day\": \"2020-06-21T00:00:00\", \"num_issues\": 278.0}, {\"day\": \"2020-06-22T00:00:00\", \"num_issues\": 280.0}, {\"day\": \"2020-06-23T00:00:00\", \"num_issues\": 290.0}, {\"day\": \"2020-06-24T00:00:00\", \"num_issues\": 298.0}, {\"day\": \"2020-06-25T00:00:00\", \"num_issues\": 302.0}, {\"day\": \"2020-06-26T00:00:00\", \"num_issues\": 297.0}, {\"day\": \"2020-06-27T00:00:00\", \"num_issues\": 296.0}, {\"day\": \"2020-06-28T00:00:00\", \"num_issues\": 310.0}, {\"day\": \"2020-06-29T00:00:00\", \"num_issues\": 306.0}, {\"day\": \"2020-06-30T00:00:00\", \"num_issues\": 321.0}, {\"day\": \"2020-07-01T00:00:00\", \"num_issues\": 316.0}, {\"day\": \"2020-07-02T00:00:00\", \"num_issues\": 317.0}, {\"day\": \"2020-07-03T00:00:00\", \"num_issues\": 318.0}, {\"day\": \"2020-07-04T00:00:00\", \"num_issues\": 317.0}, {\"day\": \"2020-07-05T00:00:00\", \"num_issues\": 319.0}]}}, {\"mode\": \"vega-lite\"});\n",
       "</script>"
      ],
      "text/plain": [
       "alt.LayerChart(...)"
      ]
     },
     "execution_count": 11,
     "metadata": {},
     "output_type": "execute_result"
    }
   ],
   "source": [
    "issues_df = pd.DataFrame({\"day\": rolling_issue_count.index, \"num_issues\": rolling_issue_count.values})\n",
    "issues_df = issues_df.groupby(\"day\", as_index=False).max()\n",
    "\n",
    "chart = alt.Chart(issues_df, title= \"New Issues (Last 28 Days)\")\n",
    "line = chart.mark_line().encode(\n",
    "  x= alt.X('day', title = \"Day\"),\n",
    "  y=alt.Y(\"num_issues\", title=\"# PRs\"),    \n",
    ")\n",
    "\n",
    "point = line + line.mark_point()\n",
    "point.interactive()"
   ]
  },
  {
   "cell_type": "code",
   "execution_count": null,
   "metadata": {},
   "outputs": [],
   "source": [
    "import matplotlib\n",
    "from matplotlib import pylab\n",
    "matplotlib.rcParams.update({'font.size': 22})\n",
    "hf = pylab.figure()\n",
    "hf.set_size_inches(18.5, 10.5)\n",
    "pylab.plot(rolling_issue_count, linewidth=5)\n",
    "ha = pylab.gca()\n",
    "ha.set_title(\"New Kubeflow Issues (28 Days)\")\n",
    "ha.set_xlabel(\"Date\")\n",
    "ha.set_ylabel(\"# Of Issues\")"
   ]
  },
  {
   "cell_type": "markdown",
   "metadata": {},
   "source": [
    "## GetSomeSampleIssue Events"
   ]
  },
  {
   "cell_type": "code",
   "execution_count": null,
   "metadata": {},
   "outputs": [],
   "source": [
    "query = \"\"\"\n",
    "SELECT\n",
    "    *\n",
    "  FROM `githubarchive.month.*`\n",
    "  WHERE\n",
    "    _TABLE_SUFFIX IN ({0})\n",
    "    AND type = 'IssuesEvent'\n",
    "    AND org.login = 'kubeflow'\n",
    "    \n",
    "    limit 20\n",
    "\"\"\".format(\",\".join(months))\n",
    "\n",
    "events=gbq.read_gbq(str(query), dialect='standard', project_id=PROJECT)"
   ]
  },
  {
   "cell_type": "code",
   "execution_count": null,
   "metadata": {},
   "outputs": [],
   "source": [
    "events"
   ]
  },
  {
   "cell_type": "markdown",
   "metadata": {},
   "source": [
    "## Get some sample pull request events \n",
    "\n",
    "* Want to inspect the data\n"
   ]
  },
  {
   "cell_type": "code",
   "execution_count": null,
   "metadata": {},
   "outputs": [],
   "source": [
    "query = \"\"\"\n",
    "SELECT\n",
    "    *\n",
    "  FROM `githubarchive.month.*`\n",
    "  WHERE\n",
    "    _TABLE_SUFFIX IN ({0})\n",
    "    AND type = 'PullRequestEvent'\n",
    "    AND org.login = 'kubeflow'\n",
    "    \n",
    "    limit 20\n",
    "\"\"\".format(\",\".join(months))\n",
    "\n",
    "events=gbq.read_gbq(str(query), dialect='standard', project_id=PROJECT)"
   ]
  },
  {
   "cell_type": "code",
   "execution_count": null,
   "metadata": {},
   "outputs": [],
   "source": [
    "import pprint\n",
    "import json\n",
    "data = json.loads(events[\"payload\"].values[3])\n",
    "pprint.pprint(data)"
   ]
  },
  {
   "cell_type": "code",
   "execution_count": null,
   "metadata": {},
   "outputs": [],
   "source": [
    "data[\"pull_request\"][\"id\"]"
   ]
  },
  {
   "cell_type": "markdown",
   "metadata": {},
   "source": [
    "## Get Distinct Types"
   ]
  },
  {
   "cell_type": "code",
   "execution_count": null,
   "metadata": {},
   "outputs": [],
   "source": [
    "query = \"\"\"\n",
    "SELECT\n",
    "    distinct type\n",
    "  FROM `githubarchive.month.*`\n",
    "  WHERE\n",
    "    _TABLE_SUFFIX IN ({0})    \n",
    "    AND org.login = 'kubeflow'\n",
    "    \n",
    "    limit 20\n",
    "\"\"\".format(\",\".join(months))\n",
    "\n",
    "events=gbq.read_gbq(str(query), dialect='standard', project_id=PROJECT)"
   ]
  },
  {
   "cell_type": "code",
   "execution_count": null,
   "metadata": {},
   "outputs": [],
   "source": [
    "events"
   ]
  }
 ],
 "metadata": {
  "kernelspec": {
   "display_name": "Python 3",
   "language": "python",
   "name": "python3"
  }
 },
 "nbformat": 4,
 "nbformat_minor": 4
}
